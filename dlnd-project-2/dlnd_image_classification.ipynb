{
 "cells": [
  {
   "cell_type": "markdown",
   "metadata": {
    "collapsed": true,
    "deletable": true,
    "editable": true
   },
   "source": [
    "# Image Classification\n",
    "In this project, you'll classify images from the [CIFAR-10 dataset](https://www.cs.toronto.edu/~kriz/cifar.html).  The dataset consists of airplanes, dogs, cats, and other objects. You'll preprocess the images, then train a convolutional neural network on all the samples. The images need to be normalized and the labels need to be one-hot encoded.  You'll get to apply what you learned and build a convolutional, max pooling, dropout, and fully connected layers.  At the end, you'll get to see your neural network's predictions on the sample images.\n",
    "## Get the Data\n",
    "Run the following cell to download the [CIFAR-10 dataset for python](https://www.cs.toronto.edu/~kriz/cifar-10-python.tar.gz)."
   ]
  },
  {
   "cell_type": "code",
   "execution_count": 1,
   "metadata": {
    "collapsed": false
   },
   "outputs": [
    {
     "name": "stdout",
     "output_type": "stream",
     "text": [
      "Collecting tqdm\n",
      "  Downloading tqdm-4.11.2-py2.py3-none-any.whl (46kB)\n",
      "\u001b[K    100% |████████████████████████████████| 51kB 3.2MB/s ta 0:00:01\n",
      "\u001b[?25hInstalling collected packages: tqdm\n",
      "Successfully installed tqdm-4.11.2\n"
     ]
    }
   ],
   "source": [
    "try:\n",
    "    from tqdm import tqdm\n",
    "except:\n",
    "    !pip install tqdm\n",
    "    from tqdm import tqdm"
   ]
  },
  {
   "cell_type": "code",
   "execution_count": 2,
   "metadata": {
    "collapsed": false,
    "deletable": true,
    "editable": true
   },
   "outputs": [
    {
     "name": "stderr",
     "output_type": "stream",
     "text": [
      "CIFAR-10 Dataset: 171MB [02:05, 1.36MB/s]                              \n"
     ]
    },
    {
     "name": "stdout",
     "output_type": "stream",
     "text": [
      "All files found!\n"
     ]
    }
   ],
   "source": [
    "\"\"\"\n",
    "DON'T MODIFY ANYTHING IN THIS CELL THAT IS BELOW THIS LINE\n",
    "\"\"\"\n",
    "from urllib.request import urlretrieve\n",
    "from os.path import isfile, isdir\n",
    "import problem_unittests as tests\n",
    "import tarfile\n",
    "\n",
    "cifar10_dataset_folder_path = 'cifar-10-batches-py'\n",
    "\n",
    "class DLProgress(tqdm):\n",
    "    last_block = 0\n",
    "\n",
    "    def hook(self, block_num=1, block_size=1, total_size=None):\n",
    "        self.total = total_size\n",
    "        self.update((block_num - self.last_block) * block_size)\n",
    "        self.last_block = block_num\n",
    "\n",
    "if not isfile('cifar-10-python.tar.gz'):\n",
    "    with DLProgress(unit='B', unit_scale=True, miniters=1, desc='CIFAR-10 Dataset') as pbar:\n",
    "        urlretrieve(\n",
    "            'https://www.cs.toronto.edu/~kriz/cifar-10-python.tar.gz',\n",
    "            'cifar-10-python.tar.gz',\n",
    "            pbar.hook)\n",
    "\n",
    "if not isdir(cifar10_dataset_folder_path):\n",
    "    with tarfile.open('cifar-10-python.tar.gz') as tar:\n",
    "        tar.extractall()\n",
    "        tar.close()\n",
    "\n",
    "\n",
    "tests.test_folder_path(cifar10_dataset_folder_path)"
   ]
  },
  {
   "cell_type": "markdown",
   "metadata": {
    "deletable": true,
    "editable": true
   },
   "source": [
    "## Explore the Data\n",
    "The dataset is broken into batches to prevent your machine from running out of memory.  The CIFAR-10 dataset consists of 5 batches, named `data_batch_1`, `data_batch_2`, etc.. Each batch contains the labels and images that are one of the following:\n",
    "* airplane\n",
    "* automobile\n",
    "* bird\n",
    "* cat\n",
    "* deer\n",
    "* dog\n",
    "* frog\n",
    "* horse\n",
    "* ship\n",
    "* truck\n",
    "\n",
    "Understanding a dataset is part of making predictions on the data.  Play around with the code cell below by changing the `batch_id` and `sample_id`. The `batch_id` is the id for a batch (1-5). The `sample_id` is the id for a image and label pair in the batch.\n",
    "\n",
    "Ask yourself \"What are all possible labels?\", \"What is the range of values for the image data?\", \"Are the labels in order or random?\".  Answers to questions like these will help you preprocess the data and end up with better predictions."
   ]
  },
  {
   "cell_type": "code",
   "execution_count": 3,
   "metadata": {
    "collapsed": false,
    "deletable": true,
    "editable": true
   },
   "outputs": [
    {
     "name": "stdout",
     "output_type": "stream",
     "text": [
      "\n",
      "Stats of batch 1:\n",
      "Samples: 10000\n",
      "Label Counts: {0: 1005, 1: 974, 2: 1032, 3: 1016, 4: 999, 5: 937, 6: 1030, 7: 1001, 8: 1025, 9: 981}\n",
      "First 20 Labels: [6, 9, 9, 4, 1, 1, 2, 7, 8, 3, 4, 7, 7, 2, 9, 9, 9, 3, 2, 6]\n",
      "\n",
      "Example of Image 100:\n",
      "Image - Min Value: 30 Max Value: 242\n",
      "Image - Shape: (32, 32, 3)\n",
      "Label - Label Id: 8 Name: ship\n"
     ]
    },
    {
     "data": {
      "image/png": "[encoded data removed]",
      "text/plain": [
       "<matplotlib.figure.Figure at 0x7f7c539a7da0>"
      ]
     },
     "metadata": {
      "image/png": {
       "height": 250,
       "width": 253
      }
     },
     "output_type": "display_data"
    }
   ],
   "source": [
    "%matplotlib inline\n",
    "%config InlineBackend.figure_format = 'retina'\n",
    "\n",
    "import helper\n",
    "import numpy as np\n",
    "\n",
    "# Explore the dataset\n",
    "batch_id = 1\n",
    "sample_id = 100\n",
    "helper.display_stats(cifar10_dataset_folder_path, batch_id, sample_id)"
   ]
  },
  {
   "cell_type": "markdown",
   "metadata": {
    "deletable": true,
    "editable": true
   },
   "source": [
    "## Implement Preprocess Functions\n",
    "### Normalize\n",
    "In the cell below, implement the `normalize` function to take in image data, `x`, and return it as a normalized Numpy array. The values should be in the range of 0 to 1, inclusive.  The return object should be the same shape as `x`."
   ]
  },
  {
   "cell_type": "code",
   "execution_count": 4,
   "metadata": {
    "collapsed": false,
    "deletable": true,
    "editable": true
   },
   "outputs": [
    {
     "name": "stdout",
     "output_type": "stream",
     "text": [
      "Tests Passed\n"
     ]
    }
   ],
   "source": [
    "def normalize(x):\n",
    "    \"\"\"\n",
    "    Normalize a list of sample image data in the range of 0 to 1\n",
    "    : x: List of image data.  The image shape is (32, 32, 3)\n",
    "    : return: Numpy array of normalize data\n",
    "    \"\"\"\n",
    "    # TODO: Implement Function\n",
    "    result = []\n",
    "    for i in range(len(x)):\n",
    "        result.append((x[i] - 0) / (255 - 0))\n",
    "    return np.array(result)\n",
    "\n",
    "\n",
    "\"\"\"\n",
    "DON'T MODIFY ANYTHING IN THIS CELL THAT IS BELOW THIS LINE\n",
    "\"\"\"\n",
    "tests.test_normalize(normalize)"
   ]
  },
  {
   "cell_type": "markdown",
   "metadata": {
    "deletable": true,
    "editable": true
   },
   "source": [
    "### One-hot encode\n",
    "Just like the previous code cell, you'll be implementing a function for preprocessing.  This time, you'll implement the `one_hot_encode` function. The input, `x`, are a list of labels.  Implement the function to return the list of labels as One-Hot encoded Numpy array.  The possible values for labels are 0 to 9. The one-hot encoding function should return the same encoding for each value between each call to `one_hot_encode`.  Make sure to save the map of encodings outside the function.\n",
    "\n",
    "Hint: Don't reinvent the wheel."
   ]
  },
  {
   "cell_type": "code",
   "execution_count": 5,
   "metadata": {
    "collapsed": false,
    "deletable": true,
    "editable": true
   },
   "outputs": [
    {
     "name": "stdout",
     "output_type": "stream",
     "text": [
      "Tests Passed\n"
     ]
    }
   ],
   "source": [
    "def one_hot_encode(x):\n",
    "    \"\"\"\n",
    "    One hot encode a list of sample labels. Return a one-hot encoded vector for each label.\n",
    "    : x: List of sample Labels\n",
    "    : return: Numpy array of one-hot encoded labels\n",
    "    \"\"\"\n",
    "    # TODO: Implement Function\n",
    "    result = []\n",
    "    for i in range(len(x)):\n",
    "        result.append([1 if x[i] == j else 0 for j in range(10)])\n",
    "    return np.array(result)\n",
    "\n",
    "\"\"\"\n",
    "DON'T MODIFY ANYTHING IN THIS CELL THAT IS BELOW THIS LINE\n",
    "\"\"\"\n",
    "tests.test_one_hot_encode(one_hot_encode)"
   ]
  },
  {
   "cell_type": "markdown",
   "metadata": {
    "deletable": true,
    "editable": true
   },
   "source": [
    "### Randomize Data\n",
    "As you saw from exploring the data above, the order of the samples are randomized.  It doesn't hurt to randomize it again, but you don't need to for this dataset."
   ]
  },
  {
   "cell_type": "markdown",
   "metadata": {
    "deletable": true,
    "editable": true
   },
   "source": [
    "## Preprocess all the data and save it\n",
    "Running the code cell below will preprocess all the CIFAR-10 data and save it to file. The code below also uses 10% of the training data for validation."
   ]
  },
  {
   "cell_type": "code",
   "execution_count": 6,
   "metadata": {
    "collapsed": false,
    "deletable": true,
    "editable": true
   },
   "outputs": [],
   "source": [
    "\"\"\"\n",
    "DON'T MODIFY ANYTHING IN THIS CELL\n",
    "\"\"\"\n",
    "# Preprocess Training, Validation, and Testing Data\n",
    "helper.preprocess_and_save_data(cifar10_dataset_folder_path, normalize, one_hot_encode)"
   ]
  },
  {
   "cell_type": "markdown",
   "metadata": {
    "deletable": true,
    "editable": true
   },
   "source": [
    "# Check Point\n",
    "This is your first checkpoint.  If you ever decide to come back to this notebook or have to restart the notebook, you can start from here.  The preprocessed data has been saved to disk."
   ]
  },
  {
   "cell_type": "code",
   "execution_count": 7,
   "metadata": {
    "collapsed": true,
    "deletable": true,
    "editable": true
   },
   "outputs": [],
   "source": [
    "\"\"\"\n",
    "DON'T MODIFY ANYTHING IN THIS CELL\n",
    "\"\"\"\n",
    "import pickle\n",
    "import problem_unittests as tests\n",
    "import helper\n",
    "\n",
    "# Load the Preprocessed Validation data\n",
    "valid_features, valid_labels = pickle.load(open('preprocess_validation.p', mode='rb'))"
   ]
  },
  {
   "cell_type": "markdown",
   "metadata": {
    "deletable": true,
    "editable": true
   },
   "source": [
    "## Build the network\n",
    "For the neural network, you'll build each layer into a function.  Most of the code you've seen has been outside of functions. To test your code more thoroughly, we require that you put each layer in a function.  This allows us to give you better feedback and test for simple mistakes using our unittests before you submit your project.\n",
    "\n",
    ">**Note:** If you're finding it hard to dedicate enough time for this course each week, we've provided a small shortcut to this part of the project. In the next couple of problems, you'll have the option to use classes from the [TensorFlow Layers](https://www.tensorflow.org/api_docs/python/tf/layers) or [TensorFlow Layers (contrib)](https://www.tensorflow.org/api_guides/python/contrib.layers) packages to build each layer, except the layers you build in the \"Convolutional and Max Pooling Layer\" section.  TF Layers is similar to Keras's and TFLearn's abstraction to layers, so it's easy to pickup.\n",
    "\n",
    ">However, if you would like to get the most out of this course, try to solve all the problems _without_ using anything from the TF Layers packages. You **can** still use classes from other packages that happen to have the same name as ones you find in TF Layers! For example, instead of using the TF Layers version of the `conv2d` class, [tf.layers.conv2d](https://www.tensorflow.org/api_docs/python/tf/layers/conv2d), you would want to use the TF Neural Network version of `conv2d`, [tf.nn.conv2d](https://www.tensorflow.org/api_docs/python/tf/nn/conv2d). \n",
    "\n",
    "Let's begin!\n",
    "\n",
    "### Input\n",
    "The neural network needs to read the image data, one-hot encoded labels, and dropout keep probability. Implement the following functions\n",
    "* Implement `neural_net_image_input`\n",
    " * Return a [TF Placeholder](https://www.tensorflow.org/api_docs/python/tf/placeholder)\n",
    " * Set the shape using `image_shape` with batch size set to `None`.\n",
    " * Name the TensorFlow placeholder \"x\" using the TensorFlow `name` parameter in the [TF Placeholder](https://www.tensorflow.org/api_docs/python/tf/placeholder).\n",
    "* Implement `neural_net_label_input`\n",
    " * Return a [TF Placeholder](https://www.tensorflow.org/api_docs/python/tf/placeholder)\n",
    " * Set the shape using `n_classes` with batch size set to `None`.\n",
    " * Name the TensorFlow placeholder \"y\" using the TensorFlow `name` parameter in the [TF Placeholder](https://www.tensorflow.org/api_docs/python/tf/placeholder).\n",
    "* Implement `neural_net_keep_prob_input`\n",
    " * Return a [TF Placeholder](https://www.tensorflow.org/api_docs/python/tf/placeholder) for dropout keep probability.\n",
    " * Name the TensorFlow placeholder \"keep_prob\" using the TensorFlow `name` parameter in the [TF Placeholder](https://www.tensorflow.org/api_docs/python/tf/placeholder).\n",
    "\n",
    "These names will be used at the end of the project to load your saved model.\n",
    "\n",
    "Note: `None` for shapes in TensorFlow allow for a dynamic size."
   ]
  },
  {
   "cell_type": "code",
   "execution_count": 8,
   "metadata": {
    "collapsed": false,
    "deletable": true,
    "editable": true
   },
   "outputs": [
    {
     "name": "stdout",
     "output_type": "stream",
     "text": [
      "Image Input Tests Passed.\n",
      "Label Input Tests Passed.\n",
      "Keep Prob Tests Passed.\n"
     ]
    }
   ],
   "source": [
    "import tensorflow as tf\n",
    "\n",
    "def neural_net_image_input(image_shape):\n",
    "    \"\"\"\n",
    "    Return a Tensor for a bach of image input\n",
    "    : image_shape: Shape of the images\n",
    "    : return: Tensor for image input.\n",
    "    \"\"\"\n",
    "    # TODO: Implement Function\n",
    "    return tf.placeholder(tf.float32,(None, image_shape[0], image_shape[1], image_shape[2]),'x')\n",
    "\n",
    "\n",
    "def neural_net_label_input(n_classes):\n",
    "    \"\"\"\n",
    "    Return a Tensor for a batch of label input\n",
    "    : n_classes: Number of classes\n",
    "    : return: Tensor for label input.\n",
    "    \"\"\"\n",
    "    # TODO: Implement Function\n",
    "    return tf.placeholder(tf.float32,(None, n_classes),'y')\n",
    "\n",
    "\n",
    "def neural_net_keep_prob_input():\n",
    "    \"\"\"\n",
    "    Return a Tensor for keep probability\n",
    "    : return: Tensor for keep probability.\n",
    "    \"\"\"\n",
    "    # TODO: Implement Function\n",
    "    return tf.placeholder(tf.float32, name='keep_prob')\n",
    "\n",
    "\n",
    "\"\"\"\n",
    "DON'T MODIFY ANYTHING IN THIS CELL THAT IS BELOW THIS LINE\n",
    "\"\"\"\n",
    "tf.reset_default_graph()\n",
    "tests.test_nn_image_inputs(neural_net_image_input)\n",
    "tests.test_nn_label_inputs(neural_net_label_input)\n",
    "tests.test_nn_keep_prob_inputs(neural_net_keep_prob_input)"
   ]
  },
  {
   "cell_type": "markdown",
   "metadata": {
    "deletable": true,
    "editable": true
   },
   "source": [
    "### Convolution and Max Pooling Layer\n",
    "Convolution layers have a lot of success with images. For this code cell, you should implement the function `conv2d_maxpool` to apply convolution then max pooling:\n",
    "* Create the weight and bias using `conv_ksize`, `conv_num_outputs` and the shape of `x_tensor`.\n",
    "* Apply a convolution to `x_tensor` using weight and `conv_strides`.\n",
    " * We recommend you use same padding, but you're welcome to use any padding.\n",
    "* Add bias\n",
    "* Add a nonlinear activation to the convolution.\n",
    "* Apply Max Pooling using `pool_ksize` and `pool_strides`.\n",
    " * We recommend you use same padding, but you're welcome to use any padding.\n",
    "\n",
    "**Note:** You **can't** use [TensorFlow Layers](https://www.tensorflow.org/api_docs/python/tf/layers) or [TensorFlow Layers (contrib)](https://www.tensorflow.org/api_guides/python/contrib.layers) for **this** layer, but you can still use TensorFlow's [Neural Network](https://www.tensorflow.org/api_docs/python/tf/nn) package. You may still use the shortcut option for all the **other** layers."
   ]
  },
  {
   "cell_type": "code",
   "execution_count": 9,
   "metadata": {
    "collapsed": false,
    "deletable": true,
    "editable": true
   },
   "outputs": [
    {
     "name": "stdout",
     "output_type": "stream",
     "text": [
      "Tests Passed\n"
     ]
    }
   ],
   "source": [
    "def conv2d_maxpool(x_tensor, conv_num_outputs, conv_ksize, conv_strides, pool_ksize, pool_strides):\n",
    "    \"\"\"\n",
    "    Apply convolution then max pooling to x_tensor\n",
    "    :param x_tensor: TensorFlow Tensor\n",
    "    :param conv_num_outputs: Number of outputs for the convolutional layer\n",
    "    :param conv_ksize: kernal size 2-D Tuple for the convolutional layer\n",
    "    :param conv_strides: Stride 2-D Tuple for convolution\n",
    "    :param pool_ksize: kernal size 2-D Tuple for pool\n",
    "    :param pool_strides: Stride 2-D Tuple for pool\n",
    "    : return: A tensor that represents convolution and max pooling of x_tensor\n",
    "    \"\"\"\n",
    "    # TODO: Implement Function\n",
    "    # Organize parameters\n",
    "    input_depth = x_tensor.get_shape().as_list()[3]\n",
    "    conv_height = conv_ksize[0]\n",
    "    conv_width = conv_ksize[1]\n",
    "    strides_height = conv_strides[0]\n",
    "    strides_width = conv_strides[1]\n",
    "    padding = 'SAME'\n",
    "    \n",
    "    # Initiate weights and biases\n",
    "    W = tf.Variable(tf.random_normal([conv_height, conv_width, input_depth, conv_num_outputs], stddev=0.1))\n",
    "    b = tf.Variable(tf.random_normal([conv_num_outputs], stddev=0.1))\n",
    "    \n",
    "    # Draw convnet\n",
    "    output = tf.nn.conv2d(x_tensor, W, [1, strides_height, strides_width, 1], padding)\n",
    "    output = tf.nn.bias_add(output, b)\n",
    "    output = tf.nn.relu(output)\n",
    "    \n",
    "    # Max pool\n",
    "    pool_height = pool_ksize[0]\n",
    "    pool_width = pool_ksize[1]\n",
    "    pool_strides_h = pool_strides[0]\n",
    "    pool_strides_w = pool_strides[1]\n",
    "    \n",
    "    output = tf.nn.max_pool(output,\n",
    "                            ksize=[1, pool_height, pool_width, 1],\n",
    "                            strides=[1, pool_strides_h, pool_strides_w, 1],\n",
    "                            padding=padding)\n",
    "    return output\n",
    "\n",
    "\"\"\"\n",
    "DON'T MODIFY ANYTHING IN THIS CELL THAT IS BELOW THIS LINE\n",
    "\"\"\"\n",
    "tests.test_con_pool(conv2d_maxpool)"
   ]
  },
  {
   "cell_type": "markdown",
   "metadata": {
    "deletable": true,
    "editable": true
   },
   "source": [
    "### Flatten Layer\n",
    "Implement the `flatten` function to change the dimension of `x_tensor` from a 4-D tensor to a 2-D tensor.  The output should be the shape (*Batch Size*, *Flattened Image Size*). Shortcut option: you can use classes from the [TensorFlow Layers](https://www.tensorflow.org/api_docs/python/tf/layers) or [TensorFlow Layers (contrib)](https://www.tensorflow.org/api_guides/python/contrib.layers) packages for this layer. For more of a challenge, only use other TensorFlow packages."
   ]
  },
  {
   "cell_type": "code",
   "execution_count": 10,
   "metadata": {
    "collapsed": false,
    "deletable": true,
    "editable": true
   },
   "outputs": [
    {
     "name": "stdout",
     "output_type": "stream",
     "text": [
      "Tests Passed\n"
     ]
    }
   ],
   "source": [
    "def flatten(x_tensor):\n",
    "    \"\"\"\n",
    "    Flatten x_tensor to (Batch Size, Flattened Image Size)\n",
    "    : x_tensor: A tensor of size (Batch Size, ...), where ... are the image dimensions.\n",
    "    : return: A tensor of size (Batch Size, Flattened Image Size).\n",
    "    \"\"\"\n",
    "    # TODO: Implement Function\n",
    "    height = int(x_tensor.get_shape()[1])\n",
    "    width = int(x_tensor.get_shape()[2])\n",
    "    depth = int(x_tensor.get_shape()[3])\n",
    "    return tf.reshape(x_tensor, [-1, height*width*depth])\n",
    "\n",
    "\"\"\"\n",
    "DON'T MODIFY ANYTHING IN THIS CELL THAT IS BELOW THIS LINE\n",
    "\"\"\"\n",
    "tests.test_flatten(flatten)"
   ]
  },
  {
   "cell_type": "markdown",
   "metadata": {
    "deletable": true,
    "editable": true
   },
   "source": [
    "### Fully-Connected Layer\n",
    "Implement the `fully_conn` function to apply a fully connected layer to `x_tensor` with the shape (*Batch Size*, *num_outputs*). Shortcut option: you can use classes from the [TensorFlow Layers](https://www.tensorflow.org/api_docs/python/tf/layers) or [TensorFlow Layers (contrib)](https://www.tensorflow.org/api_guides/python/contrib.layers) packages for this layer. For more of a challenge, only use other TensorFlow packages."
   ]
  },
  {
   "cell_type": "code",
   "execution_count": 12,
   "metadata": {
    "collapsed": false,
    "deletable": true,
    "editable": true
   },
   "outputs": [
    {
     "name": "stdout",
     "output_type": "stream",
     "text": [
      "Tests Passed\n"
     ]
    }
   ],
   "source": [
    "def fully_conn(x_tensor, num_outputs):\n",
    "    \"\"\"\n",
    "    Apply a fully connected layer to x_tensor using weight and bias\n",
    "    : x_tensor: A 2-D tensor where the first dimension is batch size.\n",
    "    : num_outputs: The number of output that the new tensor should be.\n",
    "    : return: A 2-D tensor where the second dimension is num_outputs.\n",
    "    \"\"\"\n",
    "    # TODO: Implement Function\n",
    "    W = tf.Variable(tf.random_normal([int(x_tensor.get_shape()[1]),num_outputs], stddev=0.1))\n",
    "    b = tf.Variable(tf.zeros([num_outputs]))\n",
    "    net = tf.matmul(x_tensor, W) + b\n",
    "    net = tf.nn.relu(net)\n",
    "    return net\n",
    "\n",
    "\n",
    "\"\"\"\n",
    "DON'T MODIFY ANYTHING IN THIS CELL THAT IS BELOW THIS LINE\n",
    "\"\"\"\n",
    "tests.test_fully_conn(fully_conn)"
   ]
  },
  {
   "cell_type": "markdown",
   "metadata": {
    "deletable": true,
    "editable": true
   },
   "source": [
    "### Output Layer\n",
    "Implement the `output` function to apply a fully connected layer to `x_tensor` with the shape (*Batch Size*, *num_outputs*). Shortcut option: you can use classes from the [TensorFlow Layers](https://www.tensorflow.org/api_docs/python/tf/layers) or [TensorFlow Layers (contrib)](https://www.tensorflow.org/api_guides/python/contrib.layers) packages for this layer. For more of a challenge, only use other TensorFlow packages.\n",
    "\n",
    "**Note:** Activation, softmax, or cross entropy should **not** be applied to this."
   ]
  },
  {
   "cell_type": "code",
   "execution_count": 14,
   "metadata": {
    "collapsed": false,
    "deletable": true,
    "editable": true
   },
   "outputs": [
    {
     "name": "stdout",
     "output_type": "stream",
     "text": [
      "Tests Passed\n"
     ]
    }
   ],
   "source": [
    "def output(x_tensor, num_outputs):\n",
    "    \"\"\"\n",
    "    Apply a output layer to x_tensor using weight and bias\n",
    "    : x_tensor: A 2-D tensor where the first dimension is batch size.\n",
    "    : num_outputs: The number of output that the new tensor should be.\n",
    "    : return: A 2-D tensor where the second dimension is num_outputs.\n",
    "    \"\"\"\n",
    "    # TODO: Implement Function\n",
    "    W = tf.Variable(tf.random_normal([int(x_tensor.get_shape()[1]),num_outputs], stddev=0.1))\n",
    "    b = tf.Variable(tf.zeros([num_outputs]))\n",
    "    output = tf.matmul(x_tensor, W) + b\n",
    "    return output\n",
    "\n",
    "\n",
    "\"\"\"\n",
    "DON'T MODIFY ANYTHING IN THIS CELL THAT IS BELOW THIS LINE\n",
    "\"\"\"\n",
    "tests.test_output(output)"
   ]
  },
  {
   "cell_type": "markdown",
   "metadata": {
    "deletable": true,
    "editable": true
   },
   "source": [
    "### Create Convolutional Model\n",
    "Implement the function `conv_net` to create a convolutional neural network model. The function takes in a batch of images, `x`, and outputs logits.  Use the layers you created above to create this model:\n",
    "\n",
    "* Apply 1, 2, or 3 Convolution and Max Pool layers\n",
    "* Apply a Flatten Layer\n",
    "* Apply 1, 2, or 3 Fully Connected Layers\n",
    "* Apply an Output Layer\n",
    "* Return the output\n",
    "* Apply [TensorFlow's Dropout](https://www.tensorflow.org/api_docs/python/tf/nn/dropout) to one or more layers in the model using `keep_prob`. "
   ]
  },
  {
   "cell_type": "code",
   "execution_count": 15,
   "metadata": {
    "collapsed": false,
    "deletable": true,
    "editable": true
   },
   "outputs": [
    {
     "name": "stdout",
     "output_type": "stream",
     "text": [
      "Neural Network Built!\n"
     ]
    }
   ],
   "source": [
    "def conv_net(x, keep_prob):\n",
    "    \"\"\"\n",
    "    Create a convolutional neural network model\n",
    "    : x: Placeholder tensor that holds image data.\n",
    "    : keep_prob: Placeholder tensor that hold dropout keep probability.\n",
    "    : return: Tensor that represents logits\n",
    "    \"\"\"\n",
    "    # TODO: Apply 1, 2, or 3 Convolution and Max Pool layers\n",
    "    #    Play around with different number of outputs, kernel size and stride\n",
    "    # Function Definition from Above:\n",
    "    #    conv2d_maxpool(x_tensor, conv_num_outputs, conv_ksize, conv_strides, pool_ksize, pool_strides)\n",
    "    x_conv = conv2d_maxpool(x, 32,(4, 4),(2, 2),(2, 2),(2, 2))\n",
    "    \n",
    "    # TODO: Apply a Flatten Layer\n",
    "    # Function Definition from Above:\n",
    "    #   flatten(x_tensor)\n",
    "    x_flat = flatten(x_conv)\n",
    "\n",
    "    # TODO: Apply 1, 2, or 3 Fully Connected Layers\n",
    "    #    Play around with different number of outputs\n",
    "    # Function Definition from Above:\n",
    "    #   fully_conn(x_tensor, num_outputs)\n",
    "    x_fc = fully_conn(x_flat, 400)\n",
    "    x_fc = tf.nn.dropout(x_fc, keep_prob)\n",
    "    \n",
    "    # TODO: Apply an Output Layer\n",
    "    #    Set this to the number of classes\n",
    "    # Function Definition from Above:\n",
    "    #   output(x_tensor, num_outputs)\n",
    "    logits = output(x_fc, 10)\n",
    "    \n",
    "    # TODO: return output\n",
    "    return logits\n",
    "\n",
    "\n",
    "\"\"\"\n",
    "DON'T MODIFY ANYTHING IN THIS CELL THAT IS BELOW THIS LINE\n",
    "\"\"\"\n",
    "\n",
    "##############################\n",
    "## Build the Neural Network ##\n",
    "##############################\n",
    "\n",
    "# Remove previous weights, bias, inputs, etc..\n",
    "tf.reset_default_graph()\n",
    "\n",
    "# Inputs\n",
    "x = neural_net_image_input((32, 32, 3))\n",
    "y = neural_net_label_input(10)\n",
    "keep_prob = neural_net_keep_prob_input()\n",
    "\n",
    "# Model\n",
    "logits = conv_net(x, keep_prob)\n",
    "\n",
    "# Name logits Tensor, so that is can be loaded from disk after training\n",
    "logits = tf.identity(logits, name='logits')\n",
    "\n",
    "# Loss and Optimizer\n",
    "cost = tf.reduce_mean(tf.nn.softmax_cross_entropy_with_logits(logits=logits, labels=y))\n",
    "optimizer = tf.train.AdamOptimizer().minimize(cost)\n",
    "\n",
    "# Accuracy\n",
    "correct_pred = tf.equal(tf.argmax(logits, 1), tf.argmax(y, 1))\n",
    "accuracy = tf.reduce_mean(tf.cast(correct_pred, tf.float32), name='accuracy')\n",
    "\n",
    "tests.test_conv_net(conv_net)"
   ]
  },
  {
   "cell_type": "markdown",
   "metadata": {
    "deletable": true,
    "editable": true
   },
   "source": [
    "## Train the Neural Network\n",
    "### Single Optimization\n",
    "Implement the function `train_neural_network` to do a single optimization.  The optimization should use `optimizer` to optimize in `session` with a `feed_dict` of the following:\n",
    "* `x` for image input\n",
    "* `y` for labels\n",
    "* `keep_prob` for keep probability for dropout\n",
    "\n",
    "This function will be called for each batch, so `tf.global_variables_initializer()` has already been called.\n",
    "\n",
    "Note: Nothing needs to be returned. This function is only optimizing the neural network."
   ]
  },
  {
   "cell_type": "code",
   "execution_count": 16,
   "metadata": {
    "collapsed": false,
    "deletable": true,
    "editable": true
   },
   "outputs": [
    {
     "name": "stdout",
     "output_type": "stream",
     "text": [
      "Tests Passed\n"
     ]
    }
   ],
   "source": [
    "def train_neural_network(session, optimizer, keep_probability, feature_batch, label_batch):\n",
    "    \"\"\"\n",
    "    Optimize the session on a batch of images and labels\n",
    "    : session: Current TensorFlow session\n",
    "    : optimizer: TensorFlow optimizer function\n",
    "    : keep_probability: keep probability\n",
    "    : feature_batch: Batch of Numpy image data\n",
    "    : label_batch: Batch of Numpy label data\n",
    "    \"\"\"\n",
    "    # TODO: Implement Function\n",
    "    session.run(optimizer, feed_dict={x: feature_batch, y: label_batch, keep_prob: keep_probability})\n",
    "\n",
    "\n",
    "\"\"\"\n",
    "DON'T MODIFY ANYTHING IN THIS CELL THAT IS BELOW THIS LINE\n",
    "\"\"\"\n",
    "tests.test_train_nn(train_neural_network)"
   ]
  },
  {
   "cell_type": "markdown",
   "metadata": {
    "deletable": true,
    "editable": true
   },
   "source": [
    "### Show Stats\n",
    "Implement the function `print_stats` to print loss and validation accuracy.  Use the global variables `valid_features` and `valid_labels` to calculate validation accuracy.  Use a keep probability of `1.0` to calculate the loss and validation accuracy."
   ]
  },
  {
   "cell_type": "code",
   "execution_count": 17,
   "metadata": {
    "collapsed": false,
    "deletable": true,
    "editable": true
   },
   "outputs": [],
   "source": [
    "def print_stats(session, feature_batch, label_batch, cost, accuracy):\n",
    "    \"\"\"\n",
    "    Print information about loss and validation accuracy\n",
    "    : session: Current TensorFlow session\n",
    "    : feature_batch: Batch of Numpy image data\n",
    "    : label_batch: Batch of Numpy label data\n",
    "    : cost: TensorFlow cost function\n",
    "    : accuracy: TensorFlow accuracy function\n",
    "    \"\"\"\n",
    "    # TODO: Implement Function\n",
    "    feed_dict={x: valid_features, y: valid_labels, keep_prob: 1.0}\n",
    "    loss = session.run(cost, feed_dict=feed_dict)\n",
    "    accuracy = session.run(accuracy, feed_dict=feed_dict)\n",
    "    print('Loss: {:10.4f} | Validation accuracy: {:.4f}'.format(loss, accuracy))"
   ]
  },
  {
   "cell_type": "markdown",
   "metadata": {
    "deletable": true,
    "editable": true
   },
   "source": [
    "### Hyperparameters\n",
    "Tune the following parameters:\n",
    "* Set `epochs` to the number of iterations until the network stops learning or start overfitting\n",
    "* Set `batch_size` to the highest number that your machine has memory for.  Most people set them to common sizes of memory:\n",
    " * 64\n",
    " * 128\n",
    " * 256\n",
    " * ...\n",
    "* Set `keep_probability` to the probability of keeping a node using dropout"
   ]
  },
  {
   "cell_type": "code",
   "execution_count": 18,
   "metadata": {
    "collapsed": true,
    "deletable": true,
    "editable": true
   },
   "outputs": [],
   "source": [
    "# TODO: Tune Parameters\n",
    "epochs = 20\n",
    "batch_size = 256\n",
    "keep_probability = 0.5"
   ]
  },
  {
   "cell_type": "markdown",
   "metadata": {
    "deletable": true,
    "editable": true
   },
   "source": [
    "### Train on a Single CIFAR-10 Batch\n",
    "Instead of training the neural network on all the CIFAR-10 batches of data, let's use a single batch. This should save time while you iterate on the model to get a better accuracy.  Once the final validation accuracy is 50% or greater, run the model on all the data in the next section."
   ]
  },
  {
   "cell_type": "code",
   "execution_count": 19,
   "metadata": {
    "collapsed": false,
    "deletable": true,
    "editable": true
   },
   "outputs": [
    {
     "name": "stdout",
     "output_type": "stream",
     "text": [
      "Checking the Training on a Single Batch...\n",
      "Epoch  1, CIFAR-10 Batch 1:  Loss:     1.9548 | Validation accuracy: 0.3086\n",
      "Epoch  2, CIFAR-10 Batch 1:  Loss:     1.7394 | Validation accuracy: 0.3854\n",
      "Epoch  3, CIFAR-10 Batch 1:  Loss:     1.6279 | Validation accuracy: 0.4290\n",
      "Epoch  4, CIFAR-10 Batch 1:  Loss:     1.5625 | Validation accuracy: 0.4504\n",
      "Epoch  5, CIFAR-10 Batch 1:  Loss:     1.5030 | Validation accuracy: 0.4738\n",
      "Epoch  6, CIFAR-10 Batch 1:  Loss:     1.4586 | Validation accuracy: 0.4842\n",
      "Epoch  7, CIFAR-10 Batch 1:  Loss:     1.4246 | Validation accuracy: 0.4900\n",
      "Epoch  8, CIFAR-10 Batch 1:  Loss:     1.4255 | Validation accuracy: 0.4960\n",
      "Epoch  9, CIFAR-10 Batch 1:  Loss:     1.3705 | Validation accuracy: 0.5156\n",
      "Epoch 10, CIFAR-10 Batch 1:  Loss:     1.3503 | Validation accuracy: 0.5210\n",
      "Epoch 11, CIFAR-10 Batch 1:  Loss:     1.3258 | Validation accuracy: 0.5304\n",
      "Epoch 12, CIFAR-10 Batch 1:  Loss:     1.3234 | Validation accuracy: 0.5310\n",
      "Epoch 13, CIFAR-10 Batch 1:  Loss:     1.2889 | Validation accuracy: 0.5420\n",
      "Epoch 14, CIFAR-10 Batch 1:  Loss:     1.2700 | Validation accuracy: 0.5498\n",
      "Epoch 15, CIFAR-10 Batch 1:  Loss:     1.2861 | Validation accuracy: 0.5464\n",
      "Epoch 16, CIFAR-10 Batch 1:  Loss:     1.2790 | Validation accuracy: 0.5422\n",
      "Epoch 17, CIFAR-10 Batch 1:  Loss:     1.2712 | Validation accuracy: 0.5492\n",
      "Epoch 18, CIFAR-10 Batch 1:  Loss:     1.2679 | Validation accuracy: 0.5492\n",
      "Epoch 19, CIFAR-10 Batch 1:  Loss:     1.2516 | Validation accuracy: 0.5592\n",
      "Epoch 20, CIFAR-10 Batch 1:  Loss:     1.2549 | Validation accuracy: 0.5554\n"
     ]
    }
   ],
   "source": [
    "\"\"\"\n",
    "DON'T MODIFY ANYTHING IN THIS CELL\n",
    "\"\"\"\n",
    "print('Checking the Training on a Single Batch...')\n",
    "with tf.Session() as sess:\n",
    "    # Initializing the variables\n",
    "    sess.run(tf.global_variables_initializer())\n",
    "    \n",
    "    # Training cycle\n",
    "    for epoch in range(epochs):\n",
    "        batch_i = 1\n",
    "        for batch_features, batch_labels in helper.load_preprocess_training_batch(batch_i, batch_size):\n",
    "            train_neural_network(sess, optimizer, keep_probability, batch_features, batch_labels)\n",
    "        print('Epoch {:>2}, CIFAR-10 Batch {}:  '.format(epoch + 1, batch_i), end='')\n",
    "        print_stats(sess, batch_features, batch_labels, cost, accuracy)"
   ]
  },
  {
   "cell_type": "markdown",
   "metadata": {
    "deletable": true,
    "editable": true
   },
   "source": [
    "### Fully Train the Model\n",
    "Now that you got a good accuracy with a single CIFAR-10 batch, try it with all five batches."
   ]
  },
  {
   "cell_type": "code",
   "execution_count": 20,
   "metadata": {
    "collapsed": false,
    "deletable": true,
    "editable": true
   },
   "outputs": [
    {
     "name": "stdout",
     "output_type": "stream",
     "text": [
      "Training...\n",
      "Epoch  1, CIFAR-10 Batch 1:  Loss:     1.9845 | Validation accuracy: 0.3072\n",
      "Epoch  1, CIFAR-10 Batch 2:  Loss:     1.7175 | Validation accuracy: 0.3968\n",
      "Epoch  1, CIFAR-10 Batch 3:  Loss:     1.6139 | Validation accuracy: 0.4316\n",
      "Epoch  1, CIFAR-10 Batch 4:  Loss:     1.5097 | Validation accuracy: 0.4682\n",
      "Epoch  1, CIFAR-10 Batch 5:  Loss:     1.4524 | Validation accuracy: 0.4876\n",
      "Epoch  2, CIFAR-10 Batch 1:  Loss:     1.4147 | Validation accuracy: 0.5012\n",
      "Epoch  2, CIFAR-10 Batch 2:  Loss:     1.3787 | Validation accuracy: 0.5078\n",
      "Epoch  2, CIFAR-10 Batch 3:  Loss:     1.3319 | Validation accuracy: 0.5244\n",
      "Epoch  2, CIFAR-10 Batch 4:  Loss:     1.3084 | Validation accuracy: 0.5330\n",
      "Epoch  2, CIFAR-10 Batch 5:  Loss:     1.2915 | Validation accuracy: 0.5438\n",
      "Epoch  3, CIFAR-10 Batch 1:  Loss:     1.2650 | Validation accuracy: 0.5540\n",
      "Epoch  3, CIFAR-10 Batch 2:  Loss:     1.2526 | Validation accuracy: 0.5544\n",
      "Epoch  3, CIFAR-10 Batch 3:  Loss:     1.2359 | Validation accuracy: 0.5618\n",
      "Epoch  3, CIFAR-10 Batch 4:  Loss:     1.2180 | Validation accuracy: 0.5686\n",
      "Epoch  3, CIFAR-10 Batch 5:  Loss:     1.2067 | Validation accuracy: 0.5760\n",
      "Epoch  4, CIFAR-10 Batch 1:  Loss:     1.1944 | Validation accuracy: 0.5842\n",
      "Epoch  4, CIFAR-10 Batch 2:  Loss:     1.1820 | Validation accuracy: 0.5810\n",
      "Epoch  4, CIFAR-10 Batch 3:  Loss:     1.1704 | Validation accuracy: 0.5872\n",
      "Epoch  4, CIFAR-10 Batch 4:  Loss:     1.1565 | Validation accuracy: 0.5906\n",
      "Epoch  4, CIFAR-10 Batch 5:  Loss:     1.1546 | Validation accuracy: 0.5974\n",
      "Epoch  5, CIFAR-10 Batch 1:  Loss:     1.1382 | Validation accuracy: 0.6066\n",
      "Epoch  5, CIFAR-10 Batch 2:  Loss:     1.1272 | Validation accuracy: 0.6078\n",
      "Epoch  5, CIFAR-10 Batch 3:  Loss:     1.1344 | Validation accuracy: 0.5990\n",
      "Epoch  5, CIFAR-10 Batch 4:  Loss:     1.1141 | Validation accuracy: 0.6098\n",
      "Epoch  5, CIFAR-10 Batch 5:  Loss:     1.1044 | Validation accuracy: 0.6206\n",
      "Epoch  6, CIFAR-10 Batch 1:  Loss:     1.1051 | Validation accuracy: 0.6148\n",
      "Epoch  6, CIFAR-10 Batch 2:  Loss:     1.1008 | Validation accuracy: 0.6160\n",
      "Epoch  6, CIFAR-10 Batch 3:  Loss:     1.0988 | Validation accuracy: 0.6144\n",
      "Epoch  6, CIFAR-10 Batch 4:  Loss:     1.0772 | Validation accuracy: 0.6218\n",
      "Epoch  6, CIFAR-10 Batch 5:  Loss:     1.0697 | Validation accuracy: 0.6222\n",
      "Epoch  7, CIFAR-10 Batch 1:  Loss:     1.0688 | Validation accuracy: 0.6302\n",
      "Epoch  7, CIFAR-10 Batch 2:  Loss:     1.0680 | Validation accuracy: 0.6310\n",
      "Epoch  7, CIFAR-10 Batch 3:  Loss:     1.0634 | Validation accuracy: 0.6290\n",
      "Epoch  7, CIFAR-10 Batch 4:  Loss:     1.0522 | Validation accuracy: 0.6266\n",
      "Epoch  7, CIFAR-10 Batch 5:  Loss:     1.0458 | Validation accuracy: 0.6340\n",
      "Epoch  8, CIFAR-10 Batch 1:  Loss:     1.0577 | Validation accuracy: 0.6354\n",
      "Epoch  8, CIFAR-10 Batch 2:  Loss:     1.0675 | Validation accuracy: 0.6362\n",
      "Epoch  8, CIFAR-10 Batch 3:  Loss:     1.0623 | Validation accuracy: 0.6290\n",
      "Epoch  8, CIFAR-10 Batch 4:  Loss:     1.0322 | Validation accuracy: 0.6404\n",
      "Epoch  8, CIFAR-10 Batch 5:  Loss:     1.0174 | Validation accuracy: 0.6456\n",
      "Epoch  9, CIFAR-10 Batch 1:  Loss:     1.0570 | Validation accuracy: 0.6344\n",
      "Epoch  9, CIFAR-10 Batch 2:  Loss:     1.0440 | Validation accuracy: 0.6390\n",
      "Epoch  9, CIFAR-10 Batch 3:  Loss:     1.0335 | Validation accuracy: 0.6328\n",
      "Epoch  9, CIFAR-10 Batch 4:  Loss:     1.0109 | Validation accuracy: 0.6508\n",
      "Epoch  9, CIFAR-10 Batch 5:  Loss:     1.0090 | Validation accuracy: 0.6490\n",
      "Epoch 10, CIFAR-10 Batch 1:  Loss:     1.0047 | Validation accuracy: 0.6498\n",
      "Epoch 10, CIFAR-10 Batch 2:  Loss:     1.0195 | Validation accuracy: 0.6470\n",
      "Epoch 10, CIFAR-10 Batch 3:  Loss:     1.0251 | Validation accuracy: 0.6372\n",
      "Epoch 10, CIFAR-10 Batch 4:  Loss:     0.9897 | Validation accuracy: 0.6590\n",
      "Epoch 10, CIFAR-10 Batch 5:  Loss:     0.9931 | Validation accuracy: 0.6536\n",
      "Epoch 11, CIFAR-10 Batch 1:  Loss:     1.0130 | Validation accuracy: 0.6536\n",
      "Epoch 11, CIFAR-10 Batch 2:  Loss:     0.9901 | Validation accuracy: 0.6564\n",
      "Epoch 11, CIFAR-10 Batch 3:  Loss:     1.0031 | Validation accuracy: 0.6494\n",
      "Epoch 11, CIFAR-10 Batch 4:  Loss:     0.9817 | Validation accuracy: 0.6584\n",
      "Epoch 11, CIFAR-10 Batch 5:  Loss:     0.9907 | Validation accuracy: 0.6580\n",
      "Epoch 12, CIFAR-10 Batch 1:  Loss:     0.9843 | Validation accuracy: 0.6630\n",
      "Epoch 12, CIFAR-10 Batch 2:  Loss:     0.9898 | Validation accuracy: 0.6548\n",
      "Epoch 12, CIFAR-10 Batch 3:  Loss:     0.9971 | Validation accuracy: 0.6550\n",
      "Epoch 12, CIFAR-10 Batch 4:  Loss:     0.9743 | Validation accuracy: 0.6624\n",
      "Epoch 12, CIFAR-10 Batch 5:  Loss:     0.9741 | Validation accuracy: 0.6622\n",
      "Epoch 13, CIFAR-10 Batch 1:  Loss:     0.9942 | Validation accuracy: 0.6610\n",
      "Epoch 13, CIFAR-10 Batch 2:  Loss:     0.9870 | Validation accuracy: 0.6612\n",
      "Epoch 13, CIFAR-10 Batch 3:  Loss:     0.9879 | Validation accuracy: 0.6574\n",
      "Epoch 13, CIFAR-10 Batch 4:  Loss:     0.9791 | Validation accuracy: 0.6630\n",
      "Epoch 13, CIFAR-10 Batch 5:  Loss:     0.9670 | Validation accuracy: 0.6702\n",
      "Epoch 14, CIFAR-10 Batch 1:  Loss:     0.9676 | Validation accuracy: 0.6688\n",
      "Epoch 14, CIFAR-10 Batch 2:  Loss:     0.9762 | Validation accuracy: 0.6626\n",
      "Epoch 14, CIFAR-10 Batch 3:  Loss:     1.0016 | Validation accuracy: 0.6588\n",
      "Epoch 14, CIFAR-10 Batch 4:  Loss:     0.9808 | Validation accuracy: 0.6634\n",
      "Epoch 14, CIFAR-10 Batch 5:  Loss:     0.9648 | Validation accuracy: 0.6728\n",
      "Epoch 15, CIFAR-10 Batch 1:  Loss:     0.9656 | Validation accuracy: 0.6700\n",
      "Epoch 15, CIFAR-10 Batch 2:  Loss:     0.9707 | Validation accuracy: 0.6702\n",
      "Epoch 15, CIFAR-10 Batch 3:  Loss:     1.0297 | Validation accuracy: 0.6488\n",
      "Epoch 15, CIFAR-10 Batch 4:  Loss:     0.9723 | Validation accuracy: 0.6656\n",
      "Epoch 15, CIFAR-10 Batch 5:  Loss:     0.9589 | Validation accuracy: 0.6780\n",
      "Epoch 16, CIFAR-10 Batch 1:  Loss:     0.9541 | Validation accuracy: 0.6734\n",
      "Epoch 16, CIFAR-10 Batch 2:  Loss:     0.9588 | Validation accuracy: 0.6692\n",
      "Epoch 16, CIFAR-10 Batch 3:  Loss:     0.9903 | Validation accuracy: 0.6574\n",
      "Epoch 16, CIFAR-10 Batch 4:  Loss:     0.9537 | Validation accuracy: 0.6744\n",
      "Epoch 16, CIFAR-10 Batch 5:  Loss:     0.9541 | Validation accuracy: 0.6746\n",
      "Epoch 17, CIFAR-10 Batch 1:  Loss:     0.9620 | Validation accuracy: 0.6746\n",
      "Epoch 17, CIFAR-10 Batch 2:  Loss:     0.9590 | Validation accuracy: 0.6676\n",
      "Epoch 17, CIFAR-10 Batch 3:  Loss:     1.0192 | Validation accuracy: 0.6552\n",
      "Epoch 17, CIFAR-10 Batch 4:  Loss:     0.9589 | Validation accuracy: 0.6694\n",
      "Epoch 17, CIFAR-10 Batch 5:  Loss:     0.9551 | Validation accuracy: 0.6770\n",
      "Epoch 18, CIFAR-10 Batch 1:  Loss:     0.9578 | Validation accuracy: 0.6766\n",
      "Epoch 18, CIFAR-10 Batch 2:  Loss:     0.9545 | Validation accuracy: 0.6710\n",
      "Epoch 18, CIFAR-10 Batch 3:  Loss:     1.0034 | Validation accuracy: 0.6594\n",
      "Epoch 18, CIFAR-10 Batch 4:  Loss:     0.9692 | Validation accuracy: 0.6744\n",
      "Epoch 18, CIFAR-10 Batch 5:  Loss:     0.9744 | Validation accuracy: 0.6776\n",
      "Epoch 19, CIFAR-10 Batch 1:  Loss:     0.9670 | Validation accuracy: 0.6752\n",
      "Epoch 19, CIFAR-10 Batch 2:  Loss:     0.9752 | Validation accuracy: 0.6704\n",
      "Epoch 19, CIFAR-10 Batch 3:  Loss:     1.0197 | Validation accuracy: 0.6566\n",
      "Epoch 19, CIFAR-10 Batch 4:  Loss:     0.9632 | Validation accuracy: 0.6754\n",
      "Epoch 19, CIFAR-10 Batch 5:  Loss:     1.0001 | Validation accuracy: 0.6756\n",
      "Epoch 20, CIFAR-10 Batch 1:  Loss:     0.9515 | Validation accuracy: 0.6854\n",
      "Epoch 20, CIFAR-10 Batch 2:  Loss:     0.9663 | Validation accuracy: 0.6780\n",
      "Epoch 20, CIFAR-10 Batch 3:  Loss:     0.9994 | Validation accuracy: 0.6678\n",
      "Epoch 20, CIFAR-10 Batch 4:  Loss:     0.9829 | Validation accuracy: 0.6752\n",
      "Epoch 20, CIFAR-10 Batch 5:  Loss:     0.9996 | Validation accuracy: 0.6744\n"
     ]
    }
   ],
   "source": [
    "\"\"\"\n",
    "DON'T MODIFY ANYTHING IN THIS CELL\n",
    "\"\"\"\n",
    "save_model_path = './image_classification'\n",
    "\n",
    "print('Training...')\n",
    "with tf.Session() as sess:\n",
    "    # Initializing the variables\n",
    "    sess.run(tf.global_variables_initializer())\n",
    "    \n",
    "    # Training cycle\n",
    "    for epoch in range(epochs):\n",
    "        # Loop over all batches\n",
    "        n_batches = 5\n",
    "        for batch_i in range(1, n_batches + 1):\n",
    "            for batch_features, batch_labels in helper.load_preprocess_training_batch(batch_i, batch_size):\n",
    "                train_neural_network(sess, optimizer, keep_probability, batch_features, batch_labels)\n",
    "            print('Epoch {:>2}, CIFAR-10 Batch {}:  '.format(epoch + 1, batch_i), end='')\n",
    "            print_stats(sess, batch_features, batch_labels, cost, accuracy)\n",
    "            \n",
    "    # Save Model\n",
    "    saver = tf.train.Saver()\n",
    "    save_path = saver.save(sess, save_model_path)"
   ]
  },
  {
   "cell_type": "markdown",
   "metadata": {
    "deletable": true,
    "editable": true
   },
   "source": [
    "# Checkpoint\n",
    "The model has been saved to disk.\n",
    "## Test Model\n",
    "Test your model against the test dataset.  This will be your final accuracy. You should have an accuracy greater than 50%. If you don't, keep tweaking the model architecture and parameters."
   ]
  },
  {
   "cell_type": "code",
   "execution_count": 21,
   "metadata": {
    "collapsed": false,
    "deletable": true,
    "editable": true
   },
   "outputs": [
    {
     "name": "stdout",
     "output_type": "stream",
     "text": [
      "Testing Accuracy: 0.6638671875\n",
      "\n"
     ]
    },
    {
     "data": {
      "image/png": "[encoded data removed]",
      "text/plain": [
       "<matplotlib.figure.Figure at 0x7f7c6886ae80>"
      ]
     },
     "metadata": {
      "image/png": {
       "height": 319,
       "width": 355
      }
     },
     "output_type": "display_data"
    }
   ],
   "source": [
    "\"\"\"\n",
    "DON'T MODIFY ANYTHING IN THIS CELL\n",
    "\"\"\"\n",
    "%matplotlib inline\n",
    "%config InlineBackend.figure_format = 'retina'\n",
    "\n",
    "import tensorflow as tf\n",
    "import pickle\n",
    "import helper\n",
    "import random\n",
    "\n",
    "# Set batch size if not already set\n",
    "try:\n",
    "    if batch_size:\n",
    "        pass\n",
    "except NameError:\n",
    "    batch_size = 64\n",
    "\n",
    "save_model_path = './image_classification'\n",
    "n_samples = 4\n",
    "top_n_predictions = 3\n",
    "\n",
    "def test_model():\n",
    "    \"\"\"\n",
    "    Test the saved model against the test dataset\n",
    "    \"\"\"\n",
    "\n",
    "    test_features, test_labels = pickle.load(open('preprocess_training.p', mode='rb'))\n",
    "    loaded_graph = tf.Graph()\n",
    "\n",
    "    with tf.Session(graph=loaded_graph) as sess:\n",
    "        # Load model\n",
    "        loader = tf.train.import_meta_graph(save_model_path + '.meta')\n",
    "        loader.restore(sess, save_model_path)\n",
    "\n",
    "        # Get Tensors from loaded model\n",
    "        loaded_x = loaded_graph.get_tensor_by_name('x:0')\n",
    "        loaded_y = loaded_graph.get_tensor_by_name('y:0')\n",
    "        loaded_keep_prob = loaded_graph.get_tensor_by_name('keep_prob:0')\n",
    "        loaded_logits = loaded_graph.get_tensor_by_name('logits:0')\n",
    "        loaded_acc = loaded_graph.get_tensor_by_name('accuracy:0')\n",
    "        \n",
    "        # Get accuracy in batches for memory limitations\n",
    "        test_batch_acc_total = 0\n",
    "        test_batch_count = 0\n",
    "        \n",
    "        for train_feature_batch, train_label_batch in helper.batch_features_labels(test_features, test_labels, batch_size):\n",
    "            test_batch_acc_total += sess.run(\n",
    "                loaded_acc,\n",
    "                feed_dict={loaded_x: train_feature_batch, loaded_y: train_label_batch, loaded_keep_prob: 1.0})\n",
    "            test_batch_count += 1\n",
    "\n",
    "        print('Testing Accuracy: {}\\n'.format(test_batch_acc_total/test_batch_count))\n",
    "\n",
    "        # Print Random Samples\n",
    "        random_test_features, random_test_labels = tuple(zip(*random.sample(list(zip(test_features, test_labels)), n_samples)))\n",
    "        random_test_predictions = sess.run(\n",
    "            tf.nn.top_k(tf.nn.softmax(loaded_logits), top_n_predictions),\n",
    "            feed_dict={loaded_x: random_test_features, loaded_y: random_test_labels, loaded_keep_prob: 1.0})\n",
    "        helper.display_image_predictions(random_test_features, random_test_labels, random_test_predictions)\n",
    "\n",
    "\n",
    "test_model()"
   ]
  },
  {
   "cell_type": "markdown",
   "metadata": {
    "deletable": true,
    "editable": true
   },
   "source": [
    "## Why 50-70% Accuracy?\n",
    "You might be wondering why you can't get an accuracy any higher. First things first, 50% isn't bad for a simple CNN.  Pure guessing would get you 10% accuracy. However, you might notice people are getting scores [well above 70%](http://rodrigob.github.io/are_we_there_yet/build/classification_datasets_results.html#43494641522d3130).  That's because we haven't taught you all there is to know about neural networks. We still need to cover a few more techniques.\n",
    "## Submitting This Project\n",
    "When submitting this project, make sure to run all the cells before saving the notebook.  Save the notebook file as \"dlnd_image_classification.ipynb\" and save it as a HTML file under \"File\" -> \"Download as\".  Include the \"helper.py\" and \"problem_unittests.py\" files in your submission."
   ]
  }
 ],
 "metadata": {
  "kernelspec": {
   "display_name": "Python 3",
   "language": "python",
   "name": "python3"
  },
  "language_info": {
   "codemirror_mode": {
    "name": "ipython",
    "version": 3
   },
   "file_extension": ".py",
   "mimetype": "text/x-python",
   "name": "python",
   "nbconvert_exporter": "python",
   "pygments_lexer": "ipython3",
   "version": "3.5.3"
  }
 },
 "nbformat": 4,
 "nbformat_minor": 0
}
