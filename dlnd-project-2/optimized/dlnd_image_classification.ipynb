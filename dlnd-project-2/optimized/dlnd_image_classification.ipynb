{
 "cells": [
  {
   "cell_type": "markdown",
   "metadata": {
    "collapsed": true,
    "deletable": true,
    "editable": true
   },
   "source": [
    "# Image Classification\n",
    "In this project, you'll classify images from the [CIFAR-10 dataset](https://www.cs.toronto.edu/~kriz/cifar.html).  The dataset consists of airplanes, dogs, cats, and other objects. You'll preprocess the images, then train a convolutional neural network on all the samples. The images need to be normalized and the labels need to be one-hot encoded.  You'll get to apply what you learned and build a convolutional, max pooling, dropout, and fully connected layers.  At the end, you'll get to see your neural network's predictions on the sample images.\n",
    "## Get the Data\n",
    "Run the following cell to download the [CIFAR-10 dataset for python](https://www.cs.toronto.edu/~kriz/cifar-10-python.tar.gz)."
   ]
  },
  {
   "cell_type": "code",
   "execution_count": 1,
   "metadata": {
    "collapsed": false,
    "deletable": true,
    "editable": true
   },
   "outputs": [
    {
     "name": "stdout",
     "output_type": "stream",
     "text": [
      "Collecting tqdm\n",
      "  Downloading tqdm-4.11.2-py2.py3-none-any.whl (46kB)\n",
      "\u001b[K    100% |████████████████████████████████| 51kB 3.3MB/s ta 0:00:01\n",
      "\u001b[?25hInstalling collected packages: tqdm\n",
      "Successfully installed tqdm-4.11.2\n"
     ]
    }
   ],
   "source": [
    "try:\n",
    "    from tqdm import tqdm\n",
    "except:\n",
    "    !pip install tqdm\n",
    "    from tqdm import tqdm"
   ]
  },
  {
   "cell_type": "code",
   "execution_count": 2,
   "metadata": {
    "collapsed": false,
    "deletable": true,
    "editable": true
   },
   "outputs": [
    {
     "name": "stderr",
     "output_type": "stream",
     "text": [
      "CIFAR-10 Dataset: 171MB [01:42, 1.67MB/s]                              \n"
     ]
    },
    {
     "name": "stdout",
     "output_type": "stream",
     "text": [
      "All files found!\n"
     ]
    }
   ],
   "source": [
    "\"\"\"\n",
    "DON'T MODIFY ANYTHING IN THIS CELL THAT IS BELOW THIS LINE\n",
    "\"\"\"\n",
    "from urllib.request import urlretrieve\n",
    "from os.path import isfile, isdir\n",
    "import problem_unittests as tests\n",
    "import tarfile\n",
    "\n",
    "cifar10_dataset_folder_path = 'cifar-10-batches-py'\n",
    "\n",
    "class DLProgress(tqdm):\n",
    "    last_block = 0\n",
    "\n",
    "    def hook(self, block_num=1, block_size=1, total_size=None):\n",
    "        self.total = total_size\n",
    "        self.update((block_num - self.last_block) * block_size)\n",
    "        self.last_block = block_num\n",
    "\n",
    "if not isfile('cifar-10-python.tar.gz'):\n",
    "    with DLProgress(unit='B', unit_scale=True, miniters=1, desc='CIFAR-10 Dataset') as pbar:\n",
    "        urlretrieve(\n",
    "            'https://www.cs.toronto.edu/~kriz/cifar-10-python.tar.gz',\n",
    "            'cifar-10-python.tar.gz',\n",
    "            pbar.hook)\n",
    "\n",
    "if not isdir(cifar10_dataset_folder_path):\n",
    "    with tarfile.open('cifar-10-python.tar.gz') as tar:\n",
    "        tar.extractall()\n",
    "        tar.close()\n",
    "\n",
    "\n",
    "tests.test_folder_path(cifar10_dataset_folder_path)"
   ]
  },
  {
   "cell_type": "markdown",
   "metadata": {
    "deletable": true,
    "editable": true
   },
   "source": [
    "## Explore the Data\n",
    "The dataset is broken into batches to prevent your machine from running out of memory.  The CIFAR-10 dataset consists of 5 batches, named `data_batch_1`, `data_batch_2`, etc.. Each batch contains the labels and images that are one of the following:\n",
    "* airplane\n",
    "* automobile\n",
    "* bird\n",
    "* cat\n",
    "* deer\n",
    "* dog\n",
    "* frog\n",
    "* horse\n",
    "* ship\n",
    "* truck\n",
    "\n",
    "Understanding a dataset is part of making predictions on the data.  Play around with the code cell below by changing the `batch_id` and `sample_id`. The `batch_id` is the id for a batch (1-5). The `sample_id` is the id for a image and label pair in the batch.\n",
    "\n",
    "Ask yourself \"What are all possible labels?\", \"What is the range of values for the image data?\", \"Are the labels in order or random?\".  Answers to questions like these will help you preprocess the data and end up with better predictions."
   ]
  },
  {
   "cell_type": "code",
   "execution_count": 3,
   "metadata": {
    "collapsed": false,
    "deletable": true,
    "editable": true
   },
   "outputs": [
    {
     "name": "stdout",
     "output_type": "stream",
     "text": [
      "\n",
      "Stats of batch 1:\n",
      "Samples: 10000\n",
      "Label Counts: {0: 1005, 1: 974, 2: 1032, 3: 1016, 4: 999, 5: 937, 6: 1030, 7: 1001, 8: 1025, 9: 981}\n",
      "First 20 Labels: [6, 9, 9, 4, 1, 1, 2, 7, 8, 3, 4, 7, 7, 2, 9, 9, 9, 3, 2, 6]\n",
      "\n",
      "Example of Image 100:\n",
      "Image - Min Value: 30 Max Value: 242\n",
      "Image - Shape: (32, 32, 3)\n",
      "Label - Label Id: 8 Name: ship\n"
     ]
    },
    {
     "data": {
      "image/png": "[encoded data removed]",
      "text/plain": [
       "<matplotlib.figure.Figure at 0x7fa657a74da0>"
      ]
     },
     "metadata": {
      "image/png": {
       "height": 250,
       "width": 253
      }
     },
     "output_type": "display_data"
    }
   ],
   "source": [
    "%matplotlib inline\n",
    "%config InlineBackend.figure_format = 'retina'\n",
    "\n",
    "import helper\n",
    "import numpy as np\n",
    "\n",
    "# Explore the dataset\n",
    "batch_id = 1\n",
    "sample_id = 100\n",
    "helper.display_stats(cifar10_dataset_folder_path, batch_id, sample_id)"
   ]
  },
  {
   "cell_type": "markdown",
   "metadata": {
    "deletable": true,
    "editable": true
   },
   "source": [
    "## Implement Preprocess Functions\n",
    "### Normalize\n",
    "In the cell below, implement the `normalize` function to take in image data, `x`, and return it as a normalized Numpy array. The values should be in the range of 0 to 1, inclusive.  The return object should be the same shape as `x`."
   ]
  },
  {
   "cell_type": "code",
   "execution_count": 4,
   "metadata": {
    "collapsed": false,
    "deletable": true,
    "editable": true
   },
   "outputs": [
    {
     "name": "stdout",
     "output_type": "stream",
     "text": [
      "Tests Passed\n"
     ]
    }
   ],
   "source": [
    "def normalize(x):\n",
    "    \"\"\"\n",
    "    Normalize a list of sample image data in the range of 0 to 1\n",
    "    : x: List of image data.  The image shape is (32, 32, 3)\n",
    "    : return: Numpy array of normalize data\n",
    "    \"\"\"\n",
    "    # TODO: Implement Function\n",
    "    result = []\n",
    "    for i in range(len(x)):\n",
    "        result.append((x[i] - 0) / (255 - 0))\n",
    "    return np.array(result)\n",
    "\n",
    "\n",
    "\"\"\"\n",
    "DON'T MODIFY ANYTHING IN THIS CELL THAT IS BELOW THIS LINE\n",
    "\"\"\"\n",
    "tests.test_normalize(normalize)"
   ]
  },
  {
   "cell_type": "markdown",
   "metadata": {
    "deletable": true,
    "editable": true
   },
   "source": [
    "### One-hot encode\n",
    "Just like the previous code cell, you'll be implementing a function for preprocessing.  This time, you'll implement the `one_hot_encode` function. The input, `x`, are a list of labels.  Implement the function to return the list of labels as One-Hot encoded Numpy array.  The possible values for labels are 0 to 9. The one-hot encoding function should return the same encoding for each value between each call to `one_hot_encode`.  Make sure to save the map of encodings outside the function.\n",
    "\n",
    "Hint: Don't reinvent the wheel."
   ]
  },
  {
   "cell_type": "code",
   "execution_count": 5,
   "metadata": {
    "collapsed": false,
    "deletable": true,
    "editable": true
   },
   "outputs": [
    {
     "name": "stdout",
     "output_type": "stream",
     "text": [
      "Tests Passed\n"
     ]
    }
   ],
   "source": [
    "def one_hot_encode(x):\n",
    "    \"\"\"\n",
    "    One hot encode a list of sample labels. Return a one-hot encoded vector for each label.\n",
    "    : x: List of sample Labels\n",
    "    : return: Numpy array of one-hot encoded labels\n",
    "    \"\"\"\n",
    "    # TODO: Implement Function\n",
    "    result = []\n",
    "    for i in range(len(x)):\n",
    "        result.append([1 if x[i] == j else 0 for j in range(10)])\n",
    "    return np.array(result)\n",
    "\n",
    "\"\"\"\n",
    "DON'T MODIFY ANYTHING IN THIS CELL THAT IS BELOW THIS LINE\n",
    "\"\"\"\n",
    "tests.test_one_hot_encode(one_hot_encode)"
   ]
  },
  {
   "cell_type": "markdown",
   "metadata": {
    "deletable": true,
    "editable": true
   },
   "source": [
    "### Randomize Data\n",
    "As you saw from exploring the data above, the order of the samples are randomized.  It doesn't hurt to randomize it again, but you don't need to for this dataset."
   ]
  },
  {
   "cell_type": "markdown",
   "metadata": {
    "deletable": true,
    "editable": true
   },
   "source": [
    "## Preprocess all the data and save it\n",
    "Running the code cell below will preprocess all the CIFAR-10 data and save it to file. The code below also uses 10% of the training data for validation."
   ]
  },
  {
   "cell_type": "code",
   "execution_count": 6,
   "metadata": {
    "collapsed": false,
    "deletable": true,
    "editable": true
   },
   "outputs": [],
   "source": [
    "\"\"\"\n",
    "DON'T MODIFY ANYTHING IN THIS CELL\n",
    "\"\"\"\n",
    "# Preprocess Training, Validation, and Testing Data\n",
    "helper.preprocess_and_save_data(cifar10_dataset_folder_path, normalize, one_hot_encode)"
   ]
  },
  {
   "cell_type": "markdown",
   "metadata": {
    "deletable": true,
    "editable": true
   },
   "source": [
    "# Check Point\n",
    "This is your first checkpoint.  If you ever decide to come back to this notebook or have to restart the notebook, you can start from here.  The preprocessed data has been saved to disk."
   ]
  },
  {
   "cell_type": "code",
   "execution_count": 7,
   "metadata": {
    "collapsed": true,
    "deletable": true,
    "editable": true
   },
   "outputs": [],
   "source": [
    "\"\"\"\n",
    "DON'T MODIFY ANYTHING IN THIS CELL\n",
    "\"\"\"\n",
    "import pickle\n",
    "import problem_unittests as tests\n",
    "import helper\n",
    "\n",
    "# Load the Preprocessed Validation data\n",
    "valid_features, valid_labels = pickle.load(open('preprocess_validation.p', mode='rb'))"
   ]
  },
  {
   "cell_type": "markdown",
   "metadata": {
    "deletable": true,
    "editable": true
   },
   "source": [
    "## Build the network\n",
    "For the neural network, you'll build each layer into a function.  Most of the code you've seen has been outside of functions. To test your code more thoroughly, we require that you put each layer in a function.  This allows us to give you better feedback and test for simple mistakes using our unittests before you submit your project.\n",
    "\n",
    ">**Note:** If you're finding it hard to dedicate enough time for this course each week, we've provided a small shortcut to this part of the project. In the next couple of problems, you'll have the option to use classes from the [TensorFlow Layers](https://www.tensorflow.org/api_docs/python/tf/layers) or [TensorFlow Layers (contrib)](https://www.tensorflow.org/api_guides/python/contrib.layers) packages to build each layer, except the layers you build in the \"Convolutional and Max Pooling Layer\" section.  TF Layers is similar to Keras's and TFLearn's abstraction to layers, so it's easy to pickup.\n",
    "\n",
    ">However, if you would like to get the most out of this course, try to solve all the problems _without_ using anything from the TF Layers packages. You **can** still use classes from other packages that happen to have the same name as ones you find in TF Layers! For example, instead of using the TF Layers version of the `conv2d` class, [tf.layers.conv2d](https://www.tensorflow.org/api_docs/python/tf/layers/conv2d), you would want to use the TF Neural Network version of `conv2d`, [tf.nn.conv2d](https://www.tensorflow.org/api_docs/python/tf/nn/conv2d). \n",
    "\n",
    "Let's begin!\n",
    "\n",
    "### Input\n",
    "The neural network needs to read the image data, one-hot encoded labels, and dropout keep probability. Implement the following functions\n",
    "* Implement `neural_net_image_input`\n",
    " * Return a [TF Placeholder](https://www.tensorflow.org/api_docs/python/tf/placeholder)\n",
    " * Set the shape using `image_shape` with batch size set to `None`.\n",
    " * Name the TensorFlow placeholder \"x\" using the TensorFlow `name` parameter in the [TF Placeholder](https://www.tensorflow.org/api_docs/python/tf/placeholder).\n",
    "* Implement `neural_net_label_input`\n",
    " * Return a [TF Placeholder](https://www.tensorflow.org/api_docs/python/tf/placeholder)\n",
    " * Set the shape using `n_classes` with batch size set to `None`.\n",
    " * Name the TensorFlow placeholder \"y\" using the TensorFlow `name` parameter in the [TF Placeholder](https://www.tensorflow.org/api_docs/python/tf/placeholder).\n",
    "* Implement `neural_net_keep_prob_input`\n",
    " * Return a [TF Placeholder](https://www.tensorflow.org/api_docs/python/tf/placeholder) for dropout keep probability.\n",
    " * Name the TensorFlow placeholder \"keep_prob\" using the TensorFlow `name` parameter in the [TF Placeholder](https://www.tensorflow.org/api_docs/python/tf/placeholder).\n",
    "\n",
    "These names will be used at the end of the project to load your saved model.\n",
    "\n",
    "Note: `None` for shapes in TensorFlow allow for a dynamic size."
   ]
  },
  {
   "cell_type": "code",
   "execution_count": 8,
   "metadata": {
    "collapsed": false,
    "deletable": true,
    "editable": true
   },
   "outputs": [
    {
     "name": "stdout",
     "output_type": "stream",
     "text": [
      "Image Input Tests Passed.\n",
      "Label Input Tests Passed.\n",
      "Keep Prob Tests Passed.\n"
     ]
    }
   ],
   "source": [
    "import tensorflow as tf\n",
    "\n",
    "def neural_net_image_input(image_shape):\n",
    "    \"\"\"\n",
    "    Return a Tensor for a bach of image input\n",
    "    : image_shape: Shape of the images\n",
    "    : return: Tensor for image input.\n",
    "    \"\"\"\n",
    "    # TODO: Implement Function\n",
    "    return tf.placeholder(tf.float32,(None, image_shape[0], image_shape[1], image_shape[2]),'x')\n",
    "\n",
    "\n",
    "def neural_net_label_input(n_classes):\n",
    "    \"\"\"\n",
    "    Return a Tensor for a batch of label input\n",
    "    : n_classes: Number of classes\n",
    "    : return: Tensor for label input.\n",
    "    \"\"\"\n",
    "    # TODO: Implement Function\n",
    "    return tf.placeholder(tf.float32,(None, n_classes),'y')\n",
    "\n",
    "\n",
    "def neural_net_keep_prob_input():\n",
    "    \"\"\"\n",
    "    Return a Tensor for keep probability\n",
    "    : return: Tensor for keep probability.\n",
    "    \"\"\"\n",
    "    # TODO: Implement Function\n",
    "    return tf.placeholder(tf.float32, name='keep_prob')\n",
    "\n",
    "\n",
    "\"\"\"\n",
    "DON'T MODIFY ANYTHING IN THIS CELL THAT IS BELOW THIS LINE\n",
    "\"\"\"\n",
    "tf.reset_default_graph()\n",
    "tests.test_nn_image_inputs(neural_net_image_input)\n",
    "tests.test_nn_label_inputs(neural_net_label_input)\n",
    "tests.test_nn_keep_prob_inputs(neural_net_keep_prob_input)"
   ]
  },
  {
   "cell_type": "markdown",
   "metadata": {
    "deletable": true,
    "editable": true
   },
   "source": [
    "### Convolution and Max Pooling Layer\n",
    "Convolution layers have a lot of success with images. For this code cell, you should implement the function `conv2d_maxpool` to apply convolution then max pooling:\n",
    "* Create the weight and bias using `conv_ksize`, `conv_num_outputs` and the shape of `x_tensor`.\n",
    "* Apply a convolution to `x_tensor` using weight and `conv_strides`.\n",
    " * We recommend you use same padding, but you're welcome to use any padding.\n",
    "* Add bias\n",
    "* Add a nonlinear activation to the convolution.\n",
    "* Apply Max Pooling using `pool_ksize` and `pool_strides`.\n",
    " * We recommend you use same padding, but you're welcome to use any padding.\n",
    "\n",
    "**Note:** You **can't** use [TensorFlow Layers](https://www.tensorflow.org/api_docs/python/tf/layers) or [TensorFlow Layers (contrib)](https://www.tensorflow.org/api_guides/python/contrib.layers) for **this** layer, but you can still use TensorFlow's [Neural Network](https://www.tensorflow.org/api_docs/python/tf/nn) package. You may still use the shortcut option for all the **other** layers."
   ]
  },
  {
   "cell_type": "code",
   "execution_count": 9,
   "metadata": {
    "collapsed": false,
    "deletable": true,
    "editable": true
   },
   "outputs": [
    {
     "name": "stdout",
     "output_type": "stream",
     "text": [
      "Tests Passed\n"
     ]
    }
   ],
   "source": [
    "def conv2d_maxpool(x_tensor, conv_num_outputs, conv_ksize, conv_strides, pool_ksize, pool_strides):\n",
    "    \"\"\"\n",
    "    Apply convolution then max pooling to x_tensor\n",
    "    :param x_tensor: TensorFlow Tensor\n",
    "    :param conv_num_outputs: Number of outputs for the convolutional layer\n",
    "    :param conv_ksize: kernal size 2-D Tuple for the convolutional layer\n",
    "    :param conv_strides: Stride 2-D Tuple for convolution\n",
    "    :param pool_ksize: kernal size 2-D Tuple for pool\n",
    "    :param pool_strides: Stride 2-D Tuple for pool\n",
    "    : return: A tensor that represents convolution and max pooling of x_tensor\n",
    "    \"\"\"\n",
    "    # TODO: Implement Function\n",
    "    # Organize parameters\n",
    "    input_depth = x_tensor.get_shape().as_list()[3]\n",
    "    conv_height = conv_ksize[0]\n",
    "    conv_width = conv_ksize[1]\n",
    "    strides_height = conv_strides[0]\n",
    "    strides_width = conv_strides[1]\n",
    "    padding = 'SAME'\n",
    "    \n",
    "    # Initiate weights and biases\n",
    "    W = tf.Variable(tf.random_normal([conv_height, conv_width, input_depth, conv_num_outputs], stddev=0.1))\n",
    "    b = tf.Variable(tf.random_normal([conv_num_outputs], stddev=0.1))\n",
    "    \n",
    "    # Draw convnet\n",
    "    output = tf.nn.conv2d(x_tensor, W, [1, strides_height, strides_width, 1], padding)\n",
    "    output = tf.nn.bias_add(output, b)\n",
    "    output = tf.nn.relu(output)\n",
    "    \n",
    "    # Max pool\n",
    "    pool_height = pool_ksize[0]\n",
    "    pool_width = pool_ksize[1]\n",
    "    pool_strides_h = pool_strides[0]\n",
    "    pool_strides_w = pool_strides[1]\n",
    "    \n",
    "    output = tf.nn.max_pool(output,\n",
    "                            ksize=[1, pool_height, pool_width, 1],\n",
    "                            strides=[1, pool_strides_h, pool_strides_w, 1],\n",
    "                            padding=padding)\n",
    "    return output\n",
    "\n",
    "\"\"\"\n",
    "DON'T MODIFY ANYTHING IN THIS CELL THAT IS BELOW THIS LINE\n",
    "\"\"\"\n",
    "tests.test_con_pool(conv2d_maxpool)"
   ]
  },
  {
   "cell_type": "markdown",
   "metadata": {
    "deletable": true,
    "editable": true
   },
   "source": [
    "### Flatten Layer\n",
    "Implement the `flatten` function to change the dimension of `x_tensor` from a 4-D tensor to a 2-D tensor.  The output should be the shape (*Batch Size*, *Flattened Image Size*). Shortcut option: you can use classes from the [TensorFlow Layers](https://www.tensorflow.org/api_docs/python/tf/layers) or [TensorFlow Layers (contrib)](https://www.tensorflow.org/api_guides/python/contrib.layers) packages for this layer. For more of a challenge, only use other TensorFlow packages."
   ]
  },
  {
   "cell_type": "code",
   "execution_count": 10,
   "metadata": {
    "collapsed": false,
    "deletable": true,
    "editable": true
   },
   "outputs": [
    {
     "name": "stdout",
     "output_type": "stream",
     "text": [
      "Tests Passed\n"
     ]
    }
   ],
   "source": [
    "def flatten(x_tensor):\n",
    "    \"\"\"\n",
    "    Flatten x_tensor to (Batch Size, Flattened Image Size)\n",
    "    : x_tensor: A tensor of size (Batch Size, ...), where ... are the image dimensions.\n",
    "    : return: A tensor of size (Batch Size, Flattened Image Size).\n",
    "    \"\"\"\n",
    "    # TODO: Implement Function\n",
    "    height = int(x_tensor.get_shape()[1])\n",
    "    width = int(x_tensor.get_shape()[2])\n",
    "    depth = int(x_tensor.get_shape()[3])\n",
    "    return tf.reshape(x_tensor, [-1, height*width*depth])\n",
    "\n",
    "\"\"\"\n",
    "DON'T MODIFY ANYTHING IN THIS CELL THAT IS BELOW THIS LINE\n",
    "\"\"\"\n",
    "tests.test_flatten(flatten)"
   ]
  },
  {
   "cell_type": "markdown",
   "metadata": {
    "deletable": true,
    "editable": true
   },
   "source": [
    "### Fully-Connected Layer\n",
    "Implement the `fully_conn` function to apply a fully connected layer to `x_tensor` with the shape (*Batch Size*, *num_outputs*). Shortcut option: you can use classes from the [TensorFlow Layers](https://www.tensorflow.org/api_docs/python/tf/layers) or [TensorFlow Layers (contrib)](https://www.tensorflow.org/api_guides/python/contrib.layers) packages for this layer. For more of a challenge, only use other TensorFlow packages."
   ]
  },
  {
   "cell_type": "code",
   "execution_count": 11,
   "metadata": {
    "collapsed": false,
    "deletable": true,
    "editable": true
   },
   "outputs": [
    {
     "name": "stdout",
     "output_type": "stream",
     "text": [
      "Tests Passed\n"
     ]
    }
   ],
   "source": [
    "def fully_conn(x_tensor, num_outputs):\n",
    "    \"\"\"\n",
    "    Apply a fully connected layer to x_tensor using weight and bias\n",
    "    : x_tensor: A 2-D tensor where the first dimension is batch size.\n",
    "    : num_outputs: The number of output that the new tensor should be.\n",
    "    : return: A 2-D tensor where the second dimension is num_outputs.\n",
    "    \"\"\"\n",
    "    # TODO: Implement Function\n",
    "    W = tf.Variable(tf.random_normal([int(x_tensor.get_shape()[1]),num_outputs], stddev=0.1))\n",
    "    b = tf.Variable(tf.zeros([num_outputs]))\n",
    "    net = tf.matmul(x_tensor, W) + b\n",
    "    net = tf.nn.relu(net)\n",
    "    return net\n",
    "\n",
    "\n",
    "\"\"\"\n",
    "DON'T MODIFY ANYTHING IN THIS CELL THAT IS BELOW THIS LINE\n",
    "\"\"\"\n",
    "tests.test_fully_conn(fully_conn)"
   ]
  },
  {
   "cell_type": "markdown",
   "metadata": {
    "deletable": true,
    "editable": true
   },
   "source": [
    "### Output Layer\n",
    "Implement the `output` function to apply a fully connected layer to `x_tensor` with the shape (*Batch Size*, *num_outputs*). Shortcut option: you can use classes from the [TensorFlow Layers](https://www.tensorflow.org/api_docs/python/tf/layers) or [TensorFlow Layers (contrib)](https://www.tensorflow.org/api_guides/python/contrib.layers) packages for this layer. For more of a challenge, only use other TensorFlow packages.\n",
    "\n",
    "**Note:** Activation, softmax, or cross entropy should **not** be applied to this."
   ]
  },
  {
   "cell_type": "code",
   "execution_count": 12,
   "metadata": {
    "collapsed": false,
    "deletable": true,
    "editable": true
   },
   "outputs": [
    {
     "name": "stdout",
     "output_type": "stream",
     "text": [
      "Tests Passed\n"
     ]
    }
   ],
   "source": [
    "def output(x_tensor, num_outputs):\n",
    "    \"\"\"\n",
    "    Apply a output layer to x_tensor using weight and bias\n",
    "    : x_tensor: A 2-D tensor where the first dimension is batch size.\n",
    "    : num_outputs: The number of output that the new tensor should be.\n",
    "    : return: A 2-D tensor where the second dimension is num_outputs.\n",
    "    \"\"\"\n",
    "    # TODO: Implement Function\n",
    "    W = tf.Variable(tf.random_normal([int(x_tensor.get_shape()[1]),num_outputs], stddev=0.1))\n",
    "    b = tf.Variable(tf.zeros([num_outputs]))\n",
    "    output = tf.matmul(x_tensor, W) + b\n",
    "    return output\n",
    "\n",
    "\n",
    "\"\"\"\n",
    "DON'T MODIFY ANYTHING IN THIS CELL THAT IS BELOW THIS LINE\n",
    "\"\"\"\n",
    "tests.test_output(output)"
   ]
  },
  {
   "cell_type": "markdown",
   "metadata": {
    "deletable": true,
    "editable": true
   },
   "source": [
    "### Create Convolutional Model\n",
    "Implement the function `conv_net` to create a convolutional neural network model. The function takes in a batch of images, `x`, and outputs logits.  Use the layers you created above to create this model:\n",
    "\n",
    "* Apply 1, 2, or 3 Convolution and Max Pool layers\n",
    "* Apply a Flatten Layer\n",
    "* Apply 1, 2, or 3 Fully Connected Layers\n",
    "* Apply an Output Layer\n",
    "* Return the output\n",
    "* Apply [TensorFlow's Dropout](https://www.tensorflow.org/api_docs/python/tf/nn/dropout) to one or more layers in the model using `keep_prob`. "
   ]
  },
  {
   "cell_type": "code",
   "execution_count": 72,
   "metadata": {
    "collapsed": false,
    "deletable": true,
    "editable": true
   },
   "outputs": [
    {
     "name": "stdout",
     "output_type": "stream",
     "text": [
      "Neural Network Built!\n"
     ]
    }
   ],
   "source": [
    "def conv_net(x, keep_prob):\n",
    "    \"\"\"\n",
    "    Create a convolutional neural network model\n",
    "    : x: Placeholder tensor that holds image data.\n",
    "    : keep_prob: Placeholder tensor that hold dropout keep probability.\n",
    "    : return: Tensor that represents logits\n",
    "    \"\"\"\n",
    "    # TODO: Apply 1, 2, or 3 Convolution and Max Pool layers\n",
    "    #    Play around with different number of outputs, kernel size and stride\n",
    "    # Function Definition from Above:\n",
    "    #    conv2d_maxpool(x_tensor, conv_num_outputs, conv_ksize, conv_strides, pool_ksize, pool_strides)\n",
    "    x_conv = conv2d_maxpool(x, 32,(5, 5),(1, 1),(2, 2),(2, 2))\n",
    "    #print(x_conv.get_shape().as_list())\n",
    "    x_conv = conv2d_maxpool(x_conv, 64, (3, 3),(1, 1),(2, 2),(2, 2))\n",
    "    #print(x_conv.get_shape().as_list())\n",
    "    x_conv = conv2d_maxpool(x_conv, 128, (1, 1),(1, 1),(2, 2),(2, 2))\n",
    "    #print(x_conv.get_shape().as_list())\n",
    "    \n",
    "    # TODO: Apply a Flatten Layer\n",
    "    # Function Definition from Above:\n",
    "    #   flatten(x_tensor)\n",
    "    x_flat = flatten(x_conv)\n",
    "\n",
    "    # TODO: Apply 1, 2, or 3 Fully Connected Layers\n",
    "    #    Play around with different number of outputs\n",
    "    # Function Definition from Above:\n",
    "    #   fully_conn(x_tensor, num_outputs)\n",
    "    x_fc = fully_conn(x_flat, 1024)\n",
    "    x_fc = tf.nn.dropout(x_fc, keep_prob)\n",
    "    \n",
    "    # TODO: Apply an Output Layer\n",
    "    #    Set this to the number of classes\n",
    "    # Function Definition from Above:\n",
    "    #   output(x_tensor, num_outputs)\n",
    "    logits = output(x_fc, 10)\n",
    "    \n",
    "    # TODO: return output\n",
    "    return logits\n",
    "\n",
    "\n",
    "\"\"\"\n",
    "DON'T MODIFY ANYTHING IN THIS CELL THAT IS BELOW THIS LINE\n",
    "\"\"\"\n",
    "\n",
    "##############################\n",
    "## Build the Neural Network ##\n",
    "##############################\n",
    "\n",
    "# Remove previous weights, bias, inputs, etc..\n",
    "tf.reset_default_graph()\n",
    "\n",
    "# Inputs\n",
    "x = neural_net_image_input((32, 32, 3))\n",
    "y = neural_net_label_input(10)\n",
    "keep_prob = neural_net_keep_prob_input()\n",
    "\n",
    "# Model\n",
    "logits = conv_net(x, keep_prob)\n",
    "\n",
    "# Name logits Tensor, so that is can be loaded from disk after training\n",
    "logits = tf.identity(logits, name='logits')\n",
    "\n",
    "# Loss and Optimizer\n",
    "cost = tf.reduce_mean(tf.nn.softmax_cross_entropy_with_logits(logits=logits, labels=y))\n",
    "optimizer = tf.train.AdamOptimizer().minimize(cost)\n",
    "\n",
    "# Accuracy\n",
    "correct_pred = tf.equal(tf.argmax(logits, 1), tf.argmax(y, 1))\n",
    "accuracy = tf.reduce_mean(tf.cast(correct_pred, tf.float32), name='accuracy')\n",
    "\n",
    "tests.test_conv_net(conv_net)"
   ]
  },
  {
   "cell_type": "markdown",
   "metadata": {
    "deletable": true,
    "editable": true
   },
   "source": [
    "## Train the Neural Network\n",
    "### Single Optimization\n",
    "Implement the function `train_neural_network` to do a single optimization.  The optimization should use `optimizer` to optimize in `session` with a `feed_dict` of the following:\n",
    "* `x` for image input\n",
    "* `y` for labels\n",
    "* `keep_prob` for keep probability for dropout\n",
    "\n",
    "This function will be called for each batch, so `tf.global_variables_initializer()` has already been called.\n",
    "\n",
    "Note: Nothing needs to be returned. This function is only optimizing the neural network."
   ]
  },
  {
   "cell_type": "code",
   "execution_count": 73,
   "metadata": {
    "collapsed": false,
    "deletable": true,
    "editable": true
   },
   "outputs": [
    {
     "name": "stdout",
     "output_type": "stream",
     "text": [
      "Tests Passed\n"
     ]
    }
   ],
   "source": [
    "def train_neural_network(session, optimizer, keep_probability, feature_batch, label_batch):\n",
    "    \"\"\"\n",
    "    Optimize the session on a batch of images and labels\n",
    "    : session: Current TensorFlow session\n",
    "    : optimizer: TensorFlow optimizer function\n",
    "    : keep_probability: keep probability\n",
    "    : feature_batch: Batch of Numpy image data\n",
    "    : label_batch: Batch of Numpy label data\n",
    "    \"\"\"\n",
    "    # TODO: Implement Function\n",
    "    session.run(optimizer, feed_dict={x: feature_batch, y: label_batch, keep_prob: keep_probability})\n",
    "\n",
    "\n",
    "\"\"\"\n",
    "DON'T MODIFY ANYTHING IN THIS CELL THAT IS BELOW THIS LINE\n",
    "\"\"\"\n",
    "tests.test_train_nn(train_neural_network)"
   ]
  },
  {
   "cell_type": "markdown",
   "metadata": {
    "deletable": true,
    "editable": true
   },
   "source": [
    "### Show Stats\n",
    "Implement the function `print_stats` to print loss and validation accuracy.  Use the global variables `valid_features` and `valid_labels` to calculate validation accuracy.  Use a keep probability of `1.0` to calculate the loss and validation accuracy."
   ]
  },
  {
   "cell_type": "code",
   "execution_count": 74,
   "metadata": {
    "collapsed": false,
    "deletable": true,
    "editable": true
   },
   "outputs": [],
   "source": [
    "def print_stats(session, feature_batch, label_batch, cost, accuracy):\n",
    "    \"\"\"\n",
    "    Print information about loss and validation accuracy\n",
    "    : session: Current TensorFlow session\n",
    "    : feature_batch: Batch of Numpy image data\n",
    "    : label_batch: Batch of Numpy label data\n",
    "    : cost: TensorFlow cost function\n",
    "    : accuracy: TensorFlow accuracy function\n",
    "    \"\"\"\n",
    "    # TODO: Implement Function\n",
    "    feed_dict={x: valid_features, y: valid_labels, keep_prob: 1.0}\n",
    "    loss = session.run(cost, feed_dict=feed_dict)\n",
    "    accuracy = session.run(accuracy, feed_dict=feed_dict)\n",
    "    print('Loss: {:10.4f} | Validation accuracy: {:.4f}'.format(loss, accuracy))"
   ]
  },
  {
   "cell_type": "markdown",
   "metadata": {
    "deletable": true,
    "editable": true
   },
   "source": [
    "### Hyperparameters\n",
    "Tune the following parameters:\n",
    "* Set `epochs` to the number of iterations until the network stops learning or start overfitting\n",
    "* Set `batch_size` to the highest number that your machine has memory for.  Most people set them to common sizes of memory:\n",
    " * 64\n",
    " * 128\n",
    " * 256\n",
    " * ...\n",
    "* Set `keep_probability` to the probability of keeping a node using dropout"
   ]
  },
  {
   "cell_type": "code",
   "execution_count": 77,
   "metadata": {
    "collapsed": true,
    "deletable": true,
    "editable": true
   },
   "outputs": [],
   "source": [
    "# TODO: Tune Parameters\n",
    "epochs = 50\n",
    "batch_size = 256\n",
    "keep_probability = 0.5"
   ]
  },
  {
   "cell_type": "markdown",
   "metadata": {
    "deletable": true,
    "editable": true
   },
   "source": [
    "### Train on a Single CIFAR-10 Batch\n",
    "Instead of training the neural network on all the CIFAR-10 batches of data, let's use a single batch. This should save time while you iterate on the model to get a better accuracy.  Once the final validation accuracy is 50% or greater, run the model on all the data in the next section."
   ]
  },
  {
   "cell_type": "code",
   "execution_count": 78,
   "metadata": {
    "collapsed": false,
    "deletable": true,
    "editable": true
   },
   "outputs": [
    {
     "name": "stdout",
     "output_type": "stream",
     "text": [
      "Checking the Training on a Single Batch...\n",
      "Epoch  1, CIFAR-10 Batch 1:  Loss:     1.8855 | Validation accuracy: 0.3446\n",
      "Epoch  2, CIFAR-10 Batch 1:  Loss:     1.6099 | Validation accuracy: 0.4318\n",
      "Epoch  3, CIFAR-10 Batch 1:  Loss:     1.4788 | Validation accuracy: 0.4738\n",
      "Epoch  4, CIFAR-10 Batch 1:  Loss:     1.4206 | Validation accuracy: 0.4876\n",
      "Epoch  5, CIFAR-10 Batch 1:  Loss:     1.3687 | Validation accuracy: 0.5100\n",
      "Epoch  6, CIFAR-10 Batch 1:  Loss:     1.3545 | Validation accuracy: 0.5104\n",
      "Epoch  7, CIFAR-10 Batch 1:  Loss:     1.3200 | Validation accuracy: 0.5206\n",
      "Epoch  8, CIFAR-10 Batch 1:  Loss:     1.2901 | Validation accuracy: 0.5366\n",
      "Epoch  9, CIFAR-10 Batch 1:  Loss:     1.2435 | Validation accuracy: 0.5546\n",
      "Epoch 10, CIFAR-10 Batch 1:  Loss:     1.2814 | Validation accuracy: 0.5438\n",
      "Epoch 11, CIFAR-10 Batch 1:  Loss:     1.2589 | Validation accuracy: 0.5504\n",
      "Epoch 12, CIFAR-10 Batch 1:  Loss:     1.2435 | Validation accuracy: 0.5616\n",
      "Epoch 13, CIFAR-10 Batch 1:  Loss:     1.2112 | Validation accuracy: 0.5710\n",
      "Epoch 14, CIFAR-10 Batch 1:  Loss:     1.2048 | Validation accuracy: 0.5780\n",
      "Epoch 15, CIFAR-10 Batch 1:  Loss:     1.2100 | Validation accuracy: 0.5808\n",
      "Epoch 16, CIFAR-10 Batch 1:  Loss:     1.2096 | Validation accuracy: 0.5790\n",
      "Epoch 17, CIFAR-10 Batch 1:  Loss:     1.2113 | Validation accuracy: 0.5832\n",
      "Epoch 18, CIFAR-10 Batch 1:  Loss:     1.2450 | Validation accuracy: 0.5814\n",
      "Epoch 19, CIFAR-10 Batch 1:  Loss:     1.2715 | Validation accuracy: 0.5808\n",
      "Epoch 20, CIFAR-10 Batch 1:  Loss:     1.2791 | Validation accuracy: 0.5832\n",
      "Epoch 21, CIFAR-10 Batch 1:  Loss:     1.2843 | Validation accuracy: 0.5810\n",
      "Epoch 22, CIFAR-10 Batch 1:  Loss:     1.3533 | Validation accuracy: 0.5736\n",
      "Epoch 23, CIFAR-10 Batch 1:  Loss:     1.3785 | Validation accuracy: 0.5700\n",
      "Epoch 24, CIFAR-10 Batch 1:  Loss:     1.2948 | Validation accuracy: 0.5874\n",
      "Epoch 25, CIFAR-10 Batch 1:  Loss:     1.3236 | Validation accuracy: 0.5808\n",
      "Epoch 26, CIFAR-10 Batch 1:  Loss:     1.3664 | Validation accuracy: 0.5806\n",
      "Epoch 27, CIFAR-10 Batch 1:  Loss:     1.4026 | Validation accuracy: 0.5714\n",
      "Epoch 28, CIFAR-10 Batch 1:  Loss:     1.4385 | Validation accuracy: 0.5662\n",
      "Epoch 29, CIFAR-10 Batch 1:  Loss:     1.3826 | Validation accuracy: 0.5894\n",
      "Epoch 30, CIFAR-10 Batch 1:  Loss:     1.4462 | Validation accuracy: 0.5876\n",
      "Epoch 31, CIFAR-10 Batch 1:  Loss:     1.4184 | Validation accuracy: 0.5920\n",
      "Epoch 32, CIFAR-10 Batch 1:  Loss:     1.4768 | Validation accuracy: 0.5870\n",
      "Epoch 33, CIFAR-10 Batch 1:  Loss:     1.5436 | Validation accuracy: 0.5930\n",
      "Epoch 34, CIFAR-10 Batch 1:  Loss:     1.6148 | Validation accuracy: 0.5890\n",
      "Epoch 35, CIFAR-10 Batch 1:  Loss:     1.7329 | Validation accuracy: 0.5794\n",
      "Epoch 36, CIFAR-10 Batch 1:  Loss:     1.5577 | Validation accuracy: 0.5960\n",
      "Epoch 37, CIFAR-10 Batch 1:  Loss:     1.5477 | Validation accuracy: 0.6004\n",
      "Epoch 38, CIFAR-10 Batch 1:  Loss:     1.5471 | Validation accuracy: 0.6012\n",
      "Epoch 39, CIFAR-10 Batch 1:  Loss:     1.6278 | Validation accuracy: 0.5914\n",
      "Epoch 40, CIFAR-10 Batch 1:  Loss:     1.6420 | Validation accuracy: 0.5920\n",
      "Epoch 41, CIFAR-10 Batch 1:  Loss:     1.6437 | Validation accuracy: 0.5954\n",
      "Epoch 42, CIFAR-10 Batch 1:  Loss:     1.6525 | Validation accuracy: 0.6014\n",
      "Epoch 43, CIFAR-10 Batch 1:  Loss:     1.6963 | Validation accuracy: 0.5928\n",
      "Epoch 44, CIFAR-10 Batch 1:  Loss:     1.7794 | Validation accuracy: 0.5862\n",
      "Epoch 45, CIFAR-10 Batch 1:  Loss:     1.7670 | Validation accuracy: 0.5944\n",
      "Epoch 46, CIFAR-10 Batch 1:  Loss:     1.7836 | Validation accuracy: 0.5904\n",
      "Epoch 47, CIFAR-10 Batch 1:  Loss:     1.7834 | Validation accuracy: 0.5960\n",
      "Epoch 48, CIFAR-10 Batch 1:  Loss:     1.8442 | Validation accuracy: 0.5898\n",
      "Epoch 49, CIFAR-10 Batch 1:  Loss:     1.8037 | Validation accuracy: 0.5932\n",
      "Epoch 50, CIFAR-10 Batch 1:  Loss:     1.8829 | Validation accuracy: 0.5852\n"
     ]
    }
   ],
   "source": [
    "\"\"\"\n",
    "DON'T MODIFY ANYTHING IN THIS CELL\n",
    "\"\"\"\n",
    "print('Checking the Training on a Single Batch...')\n",
    "with tf.Session() as sess:\n",
    "    # Initializing the variables\n",
    "    sess.run(tf.global_variables_initializer())\n",
    "    \n",
    "    # Training cycle\n",
    "    for epoch in range(epochs):\n",
    "        batch_i = 1\n",
    "        for batch_features, batch_labels in helper.load_preprocess_training_batch(batch_i, batch_size):\n",
    "            train_neural_network(sess, optimizer, keep_probability, batch_features, batch_labels)\n",
    "        print('Epoch {:>2}, CIFAR-10 Batch {}:  '.format(epoch + 1, batch_i), end='')\n",
    "        print_stats(sess, batch_features, batch_labels, cost, accuracy)"
   ]
  },
  {
   "cell_type": "markdown",
   "metadata": {
    "deletable": true,
    "editable": true
   },
   "source": [
    "### Fully Train the Model\n",
    "Now that you got a good accuracy with a single CIFAR-10 batch, try it with all five batches."
   ]
  },
  {
   "cell_type": "code",
   "execution_count": 79,
   "metadata": {
    "collapsed": false,
    "deletable": true,
    "editable": true
   },
   "outputs": [
    {
     "name": "stdout",
     "output_type": "stream",
     "text": [
      "Training...\n",
      "Epoch  1, CIFAR-10 Batch 1:  Loss:     1.8169 | Validation accuracy: 0.3600\n",
      "Epoch  1, CIFAR-10 Batch 2:  Loss:     1.6060 | Validation accuracy: 0.4248\n",
      "Epoch  1, CIFAR-10 Batch 3:  Loss:     1.4979 | Validation accuracy: 0.4618\n",
      "Epoch  1, CIFAR-10 Batch 4:  Loss:     1.4279 | Validation accuracy: 0.4836\n",
      "Epoch  1, CIFAR-10 Batch 5:  Loss:     1.3753 | Validation accuracy: 0.4984\n",
      "Epoch  2, CIFAR-10 Batch 1:  Loss:     1.3379 | Validation accuracy: 0.5230\n",
      "Epoch  2, CIFAR-10 Batch 2:  Loss:     1.3169 | Validation accuracy: 0.5224\n",
      "Epoch  2, CIFAR-10 Batch 3:  Loss:     1.3350 | Validation accuracy: 0.5208\n",
      "Epoch  2, CIFAR-10 Batch 4:  Loss:     1.2436 | Validation accuracy: 0.5604\n",
      "Epoch  2, CIFAR-10 Batch 5:  Loss:     1.2453 | Validation accuracy: 0.5666\n",
      "Epoch  3, CIFAR-10 Batch 1:  Loss:     1.2202 | Validation accuracy: 0.5702\n",
      "Epoch  3, CIFAR-10 Batch 2:  Loss:     1.2091 | Validation accuracy: 0.5678\n",
      "Epoch  3, CIFAR-10 Batch 3:  Loss:     1.1686 | Validation accuracy: 0.5904\n",
      "Epoch  3, CIFAR-10 Batch 4:  Loss:     1.1673 | Validation accuracy: 0.5860\n",
      "Epoch  3, CIFAR-10 Batch 5:  Loss:     1.1565 | Validation accuracy: 0.5862\n",
      "Epoch  4, CIFAR-10 Batch 1:  Loss:     1.0937 | Validation accuracy: 0.6118\n",
      "Epoch  4, CIFAR-10 Batch 2:  Loss:     1.1379 | Validation accuracy: 0.6008\n",
      "Epoch  4, CIFAR-10 Batch 3:  Loss:     1.0763 | Validation accuracy: 0.6198\n",
      "Epoch  4, CIFAR-10 Batch 4:  Loss:     1.0371 | Validation accuracy: 0.6328\n",
      "Epoch  4, CIFAR-10 Batch 5:  Loss:     1.0886 | Validation accuracy: 0.6120\n",
      "Epoch  5, CIFAR-10 Batch 1:  Loss:     1.0347 | Validation accuracy: 0.6330\n",
      "Epoch  5, CIFAR-10 Batch 2:  Loss:     1.0979 | Validation accuracy: 0.6122\n",
      "Epoch  5, CIFAR-10 Batch 3:  Loss:     1.0064 | Validation accuracy: 0.6446\n",
      "Epoch  5, CIFAR-10 Batch 4:  Loss:     0.9811 | Validation accuracy: 0.6476\n",
      "Epoch  5, CIFAR-10 Batch 5:  Loss:     1.0624 | Validation accuracy: 0.6250\n",
      "Epoch  6, CIFAR-10 Batch 1:  Loss:     0.9951 | Validation accuracy: 0.6446\n",
      "Epoch  6, CIFAR-10 Batch 2:  Loss:     0.9939 | Validation accuracy: 0.6494\n",
      "Epoch  6, CIFAR-10 Batch 3:  Loss:     0.9792 | Validation accuracy: 0.6482\n",
      "Epoch  6, CIFAR-10 Batch 4:  Loss:     0.9600 | Validation accuracy: 0.6592\n",
      "Epoch  6, CIFAR-10 Batch 5:  Loss:     1.0022 | Validation accuracy: 0.6450\n",
      "Epoch  7, CIFAR-10 Batch 1:  Loss:     0.9459 | Validation accuracy: 0.6704\n",
      "Epoch  7, CIFAR-10 Batch 2:  Loss:     0.9787 | Validation accuracy: 0.6504\n",
      "Epoch  7, CIFAR-10 Batch 3:  Loss:     0.9557 | Validation accuracy: 0.6598\n",
      "Epoch  7, CIFAR-10 Batch 4:  Loss:     0.9148 | Validation accuracy: 0.6788\n",
      "Epoch  7, CIFAR-10 Batch 5:  Loss:     0.9639 | Validation accuracy: 0.6582\n",
      "Epoch  8, CIFAR-10 Batch 1:  Loss:     0.9442 | Validation accuracy: 0.6712\n",
      "Epoch  8, CIFAR-10 Batch 2:  Loss:     0.9379 | Validation accuracy: 0.6736\n",
      "Epoch  8, CIFAR-10 Batch 3:  Loss:     0.9128 | Validation accuracy: 0.6812\n",
      "Epoch  8, CIFAR-10 Batch 4:  Loss:     0.8872 | Validation accuracy: 0.6906\n",
      "Epoch  8, CIFAR-10 Batch 5:  Loss:     0.8812 | Validation accuracy: 0.6940\n",
      "Epoch  9, CIFAR-10 Batch 1:  Loss:     0.9346 | Validation accuracy: 0.6800\n",
      "Epoch  9, CIFAR-10 Batch 2:  Loss:     0.9119 | Validation accuracy: 0.6824\n",
      "Epoch  9, CIFAR-10 Batch 3:  Loss:     0.9534 | Validation accuracy: 0.6634\n",
      "Epoch  9, CIFAR-10 Batch 4:  Loss:     0.9014 | Validation accuracy: 0.6890\n",
      "Epoch  9, CIFAR-10 Batch 5:  Loss:     0.8759 | Validation accuracy: 0.6958\n",
      "Epoch 10, CIFAR-10 Batch 1:  Loss:     0.9302 | Validation accuracy: 0.6772\n",
      "Epoch 10, CIFAR-10 Batch 2:  Loss:     0.9268 | Validation accuracy: 0.6830\n",
      "Epoch 10, CIFAR-10 Batch 3:  Loss:     0.9215 | Validation accuracy: 0.6816\n",
      "Epoch 10, CIFAR-10 Batch 4:  Loss:     0.8892 | Validation accuracy: 0.6898\n",
      "Epoch 10, CIFAR-10 Batch 5:  Loss:     0.8955 | Validation accuracy: 0.6916\n",
      "Epoch 11, CIFAR-10 Batch 1:  Loss:     0.9396 | Validation accuracy: 0.6748\n",
      "Epoch 11, CIFAR-10 Batch 2:  Loss:     0.9046 | Validation accuracy: 0.6914\n",
      "Epoch 11, CIFAR-10 Batch 3:  Loss:     0.9248 | Validation accuracy: 0.6778\n",
      "Epoch 11, CIFAR-10 Batch 4:  Loss:     0.9298 | Validation accuracy: 0.6848\n",
      "Epoch 11, CIFAR-10 Batch 5:  Loss:     0.8973 | Validation accuracy: 0.6934\n",
      "Epoch 12, CIFAR-10 Batch 1:  Loss:     0.8854 | Validation accuracy: 0.6958\n",
      "Epoch 12, CIFAR-10 Batch 2:  Loss:     0.8793 | Validation accuracy: 0.7010\n",
      "Epoch 12, CIFAR-10 Batch 3:  Loss:     0.9426 | Validation accuracy: 0.6764\n",
      "Epoch 12, CIFAR-10 Batch 4:  Loss:     0.8913 | Validation accuracy: 0.6946\n",
      "Epoch 12, CIFAR-10 Batch 5:  Loss:     0.8742 | Validation accuracy: 0.6978\n",
      "Epoch 13, CIFAR-10 Batch 1:  Loss:     0.9162 | Validation accuracy: 0.6890\n",
      "Epoch 13, CIFAR-10 Batch 2:  Loss:     0.9154 | Validation accuracy: 0.6962\n",
      "Epoch 13, CIFAR-10 Batch 3:  Loss:     0.9449 | Validation accuracy: 0.6856\n",
      "Epoch 13, CIFAR-10 Batch 4:  Loss:     0.8865 | Validation accuracy: 0.7000\n",
      "Epoch 13, CIFAR-10 Batch 5:  Loss:     0.9380 | Validation accuracy: 0.6920\n",
      "Epoch 14, CIFAR-10 Batch 1:  Loss:     0.8671 | Validation accuracy: 0.7064\n",
      "Epoch 14, CIFAR-10 Batch 2:  Loss:     0.8786 | Validation accuracy: 0.7060\n",
      "Epoch 14, CIFAR-10 Batch 3:  Loss:     0.8790 | Validation accuracy: 0.7052\n",
      "Epoch 14, CIFAR-10 Batch 4:  Loss:     0.8525 | Validation accuracy: 0.7156\n",
      "Epoch 14, CIFAR-10 Batch 5:  Loss:     0.8784 | Validation accuracy: 0.7084\n",
      "Epoch 15, CIFAR-10 Batch 1:  Loss:     0.8817 | Validation accuracy: 0.7052\n",
      "Epoch 15, CIFAR-10 Batch 2:  Loss:     0.9181 | Validation accuracy: 0.6994\n",
      "Epoch 15, CIFAR-10 Batch 3:  Loss:     0.8907 | Validation accuracy: 0.7100\n",
      "Epoch 15, CIFAR-10 Batch 4:  Loss:     0.8742 | Validation accuracy: 0.7136\n",
      "Epoch 15, CIFAR-10 Batch 5:  Loss:     0.8608 | Validation accuracy: 0.7198\n",
      "Epoch 16, CIFAR-10 Batch 1:  Loss:     0.8806 | Validation accuracy: 0.7092\n",
      "Epoch 16, CIFAR-10 Batch 2:  Loss:     0.9234 | Validation accuracy: 0.7022\n",
      "Epoch 16, CIFAR-10 Batch 3:  Loss:     0.9088 | Validation accuracy: 0.7168\n",
      "Epoch 16, CIFAR-10 Batch 4:  Loss:     0.9053 | Validation accuracy: 0.7110\n",
      "Epoch 16, CIFAR-10 Batch 5:  Loss:     0.8815 | Validation accuracy: 0.7234\n",
      "Epoch 17, CIFAR-10 Batch 1:  Loss:     0.9037 | Validation accuracy: 0.7106\n",
      "Epoch 17, CIFAR-10 Batch 2:  Loss:     0.8863 | Validation accuracy: 0.7124\n",
      "Epoch 17, CIFAR-10 Batch 3:  Loss:     0.8875 | Validation accuracy: 0.7222\n",
      "Epoch 17, CIFAR-10 Batch 4:  Loss:     0.9266 | Validation accuracy: 0.7092\n",
      "Epoch 17, CIFAR-10 Batch 5:  Loss:     0.9601 | Validation accuracy: 0.7136\n",
      "Epoch 18, CIFAR-10 Batch 1:  Loss:     0.8875 | Validation accuracy: 0.7206\n",
      "Epoch 18, CIFAR-10 Batch 2:  Loss:     0.9760 | Validation accuracy: 0.6910\n",
      "Epoch 18, CIFAR-10 Batch 3:  Loss:     1.0310 | Validation accuracy: 0.6984\n",
      "Epoch 18, CIFAR-10 Batch 4:  Loss:     0.9287 | Validation accuracy: 0.7182\n",
      "Epoch 18, CIFAR-10 Batch 5:  Loss:     0.9202 | Validation accuracy: 0.7230\n",
      "Epoch 19, CIFAR-10 Batch 1:  Loss:     0.9055 | Validation accuracy: 0.7216\n",
      "Epoch 19, CIFAR-10 Batch 2:  Loss:     0.9887 | Validation accuracy: 0.6980\n",
      "Epoch 19, CIFAR-10 Batch 3:  Loss:     1.0778 | Validation accuracy: 0.6804\n",
      "Epoch 19, CIFAR-10 Batch 4:  Loss:     0.9049 | Validation accuracy: 0.7200\n",
      "Epoch 19, CIFAR-10 Batch 5:  Loss:     0.9049 | Validation accuracy: 0.7278\n",
      "Epoch 20, CIFAR-10 Batch 1:  Loss:     0.9214 | Validation accuracy: 0.7142\n",
      "Epoch 20, CIFAR-10 Batch 2:  Loss:     0.9552 | Validation accuracy: 0.7100\n",
      "Epoch 20, CIFAR-10 Batch 3:  Loss:     1.0425 | Validation accuracy: 0.6950\n",
      "Epoch 20, CIFAR-10 Batch 4:  Loss:     0.8935 | Validation accuracy: 0.7236\n",
      "Epoch 20, CIFAR-10 Batch 5:  Loss:     0.9214 | Validation accuracy: 0.7176\n",
      "Epoch 21, CIFAR-10 Batch 1:  Loss:     0.9370 | Validation accuracy: 0.7200\n",
      "Epoch 21, CIFAR-10 Batch 2:  Loss:     0.9011 | Validation accuracy: 0.7330\n",
      "Epoch 21, CIFAR-10 Batch 3:  Loss:     1.0130 | Validation accuracy: 0.7106\n",
      "Epoch 21, CIFAR-10 Batch 4:  Loss:     0.9161 | Validation accuracy: 0.7248\n",
      "Epoch 21, CIFAR-10 Batch 5:  Loss:     0.9380 | Validation accuracy: 0.7266\n",
      "Epoch 22, CIFAR-10 Batch 1:  Loss:     0.9999 | Validation accuracy: 0.7186\n",
      "Epoch 22, CIFAR-10 Batch 2:  Loss:     0.9441 | Validation accuracy: 0.7232\n",
      "Epoch 22, CIFAR-10 Batch 3:  Loss:     1.0000 | Validation accuracy: 0.7214\n",
      "Epoch 22, CIFAR-10 Batch 4:  Loss:     0.9329 | Validation accuracy: 0.7196\n",
      "Epoch 22, CIFAR-10 Batch 5:  Loss:     1.0206 | Validation accuracy: 0.7194\n",
      "Epoch 23, CIFAR-10 Batch 1:  Loss:     0.9967 | Validation accuracy: 0.7246\n",
      "Epoch 23, CIFAR-10 Batch 2:  Loss:     0.9892 | Validation accuracy: 0.7142\n",
      "Epoch 23, CIFAR-10 Batch 3:  Loss:     1.0244 | Validation accuracy: 0.7232\n",
      "Epoch 23, CIFAR-10 Batch 4:  Loss:     0.9395 | Validation accuracy: 0.7286\n",
      "Epoch 23, CIFAR-10 Batch 5:  Loss:     0.9937 | Validation accuracy: 0.7304\n",
      "Epoch 24, CIFAR-10 Batch 1:  Loss:     1.0206 | Validation accuracy: 0.7250\n",
      "Epoch 24, CIFAR-10 Batch 2:  Loss:     0.9965 | Validation accuracy: 0.7210\n",
      "Epoch 24, CIFAR-10 Batch 3:  Loss:     0.9776 | Validation accuracy: 0.7282\n",
      "Epoch 24, CIFAR-10 Batch 4:  Loss:     0.9600 | Validation accuracy: 0.7270\n",
      "Epoch 24, CIFAR-10 Batch 5:  Loss:     1.0374 | Validation accuracy: 0.7312\n",
      "Epoch 25, CIFAR-10 Batch 1:  Loss:     1.0364 | Validation accuracy: 0.7164\n",
      "Epoch 25, CIFAR-10 Batch 2:  Loss:     1.0224 | Validation accuracy: 0.7178\n",
      "Epoch 25, CIFAR-10 Batch 3:  Loss:     1.0425 | Validation accuracy: 0.7224\n",
      "Epoch 25, CIFAR-10 Batch 4:  Loss:     0.9797 | Validation accuracy: 0.7326\n",
      "Epoch 25, CIFAR-10 Batch 5:  Loss:     1.0565 | Validation accuracy: 0.7278\n",
      "Epoch 26, CIFAR-10 Batch 1:  Loss:     1.1204 | Validation accuracy: 0.7044\n",
      "Epoch 26, CIFAR-10 Batch 2:  Loss:     1.0347 | Validation accuracy: 0.7248\n",
      "Epoch 26, CIFAR-10 Batch 3:  Loss:     1.0274 | Validation accuracy: 0.7266\n",
      "Epoch 26, CIFAR-10 Batch 4:  Loss:     0.9950 | Validation accuracy: 0.7242\n",
      "Epoch 26, CIFAR-10 Batch 5:  Loss:     1.0067 | Validation accuracy: 0.7370\n",
      "Epoch 27, CIFAR-10 Batch 1:  Loss:     1.1413 | Validation accuracy: 0.7094\n",
      "Epoch 27, CIFAR-10 Batch 2:  Loss:     1.1357 | Validation accuracy: 0.7062\n",
      "Epoch 27, CIFAR-10 Batch 3:  Loss:     1.0817 | Validation accuracy: 0.7260\n",
      "Epoch 27, CIFAR-10 Batch 4:  Loss:     1.0160 | Validation accuracy: 0.7240\n",
      "Epoch 27, CIFAR-10 Batch 5:  Loss:     1.0501 | Validation accuracy: 0.7278\n",
      "Epoch 28, CIFAR-10 Batch 1:  Loss:     1.2271 | Validation accuracy: 0.7000\n",
      "Epoch 28, CIFAR-10 Batch 2:  Loss:     1.0799 | Validation accuracy: 0.7066\n",
      "Epoch 28, CIFAR-10 Batch 3:  Loss:     1.0614 | Validation accuracy: 0.7302\n",
      "Epoch 28, CIFAR-10 Batch 4:  Loss:     1.0900 | Validation accuracy: 0.7188\n",
      "Epoch 28, CIFAR-10 Batch 5:  Loss:     1.0896 | Validation accuracy: 0.7234\n",
      "Epoch 29, CIFAR-10 Batch 1:  Loss:     1.1876 | Validation accuracy: 0.7064\n",
      "Epoch 29, CIFAR-10 Batch 2:  Loss:     1.1000 | Validation accuracy: 0.7176\n",
      "Epoch 29, CIFAR-10 Batch 3:  Loss:     1.1296 | Validation accuracy: 0.7276\n",
      "Epoch 29, CIFAR-10 Batch 4:  Loss:     1.1714 | Validation accuracy: 0.7034\n",
      "Epoch 29, CIFAR-10 Batch 5:  Loss:     1.1176 | Validation accuracy: 0.7230\n",
      "Epoch 30, CIFAR-10 Batch 1:  Loss:     1.1511 | Validation accuracy: 0.7038\n",
      "Epoch 30, CIFAR-10 Batch 2:  Loss:     1.0561 | Validation accuracy: 0.7340\n",
      "Epoch 30, CIFAR-10 Batch 3:  Loss:     1.1723 | Validation accuracy: 0.7244\n",
      "Epoch 30, CIFAR-10 Batch 4:  Loss:     1.1374 | Validation accuracy: 0.6998\n",
      "Epoch 30, CIFAR-10 Batch 5:  Loss:     1.1121 | Validation accuracy: 0.7224\n",
      "Epoch 31, CIFAR-10 Batch 1:  Loss:     1.1233 | Validation accuracy: 0.7144\n",
      "Epoch 31, CIFAR-10 Batch 2:  Loss:     1.0561 | Validation accuracy: 0.7292\n",
      "Epoch 31, CIFAR-10 Batch 3:  Loss:     1.1390 | Validation accuracy: 0.7218\n",
      "Epoch 31, CIFAR-10 Batch 4:  Loss:     1.1743 | Validation accuracy: 0.7078\n",
      "Epoch 31, CIFAR-10 Batch 5:  Loss:     1.1307 | Validation accuracy: 0.7276\n",
      "Epoch 32, CIFAR-10 Batch 1:  Loss:     1.1403 | Validation accuracy: 0.7120\n",
      "Epoch 32, CIFAR-10 Batch 2:  Loss:     1.0883 | Validation accuracy: 0.7312\n",
      "Epoch 32, CIFAR-10 Batch 3:  Loss:     1.1542 | Validation accuracy: 0.7304\n",
      "Epoch 32, CIFAR-10 Batch 4:  Loss:     1.1134 | Validation accuracy: 0.7196\n",
      "Epoch 32, CIFAR-10 Batch 5:  Loss:     1.1591 | Validation accuracy: 0.7286\n",
      "Epoch 33, CIFAR-10 Batch 1:  Loss:     1.2008 | Validation accuracy: 0.7156\n",
      "Epoch 33, CIFAR-10 Batch 2:  Loss:     1.1208 | Validation accuracy: 0.7254\n",
      "Epoch 33, CIFAR-10 Batch 3:  Loss:     1.1653 | Validation accuracy: 0.7300\n",
      "Epoch 33, CIFAR-10 Batch 4:  Loss:     1.1637 | Validation accuracy: 0.7260\n",
      "Epoch 33, CIFAR-10 Batch 5:  Loss:     1.2227 | Validation accuracy: 0.7318\n",
      "Epoch 34, CIFAR-10 Batch 1:  Loss:     1.1633 | Validation accuracy: 0.7172\n",
      "Epoch 34, CIFAR-10 Batch 2:  Loss:     1.2021 | Validation accuracy: 0.7210\n",
      "Epoch 34, CIFAR-10 Batch 3:  Loss:     1.1325 | Validation accuracy: 0.7392\n",
      "Epoch 34, CIFAR-10 Batch 4:  Loss:     1.1749 | Validation accuracy: 0.7222\n",
      "Epoch 34, CIFAR-10 Batch 5:  Loss:     1.2255 | Validation accuracy: 0.7280\n",
      "Epoch 35, CIFAR-10 Batch 1:  Loss:     1.2018 | Validation accuracy: 0.7142\n",
      "Epoch 35, CIFAR-10 Batch 2:  Loss:     1.1252 | Validation accuracy: 0.7404\n",
      "Epoch 35, CIFAR-10 Batch 3:  Loss:     1.2302 | Validation accuracy: 0.7268\n",
      "Epoch 35, CIFAR-10 Batch 4:  Loss:     1.1625 | Validation accuracy: 0.7192\n",
      "Epoch 35, CIFAR-10 Batch 5:  Loss:     1.2483 | Validation accuracy: 0.7234\n",
      "Epoch 36, CIFAR-10 Batch 1:  Loss:     1.1870 | Validation accuracy: 0.7208\n",
      "Epoch 36, CIFAR-10 Batch 2:  Loss:     1.1041 | Validation accuracy: 0.7336\n",
      "Epoch 36, CIFAR-10 Batch 3:  Loss:     1.1718 | Validation accuracy: 0.7330\n",
      "Epoch 36, CIFAR-10 Batch 4:  Loss:     1.1535 | Validation accuracy: 0.7352\n",
      "Epoch 36, CIFAR-10 Batch 5:  Loss:     1.2557 | Validation accuracy: 0.7208\n",
      "Epoch 37, CIFAR-10 Batch 1:  Loss:     1.1943 | Validation accuracy: 0.7296\n",
      "Epoch 37, CIFAR-10 Batch 2:  Loss:     1.1860 | Validation accuracy: 0.7344\n",
      "Epoch 37, CIFAR-10 Batch 3:  Loss:     1.2784 | Validation accuracy: 0.7262\n",
      "Epoch 37, CIFAR-10 Batch 4:  Loss:     1.1907 | Validation accuracy: 0.7244\n",
      "Epoch 37, CIFAR-10 Batch 5:  Loss:     1.2346 | Validation accuracy: 0.7336\n",
      "Epoch 38, CIFAR-10 Batch 1:  Loss:     1.2215 | Validation accuracy: 0.7266\n",
      "Epoch 38, CIFAR-10 Batch 2:  Loss:     1.1865 | Validation accuracy: 0.7298\n",
      "Epoch 38, CIFAR-10 Batch 3:  Loss:     1.2200 | Validation accuracy: 0.7318\n",
      "Epoch 38, CIFAR-10 Batch 4:  Loss:     1.2134 | Validation accuracy: 0.7218\n",
      "Epoch 38, CIFAR-10 Batch 5:  Loss:     1.2533 | Validation accuracy: 0.7340\n",
      "Epoch 39, CIFAR-10 Batch 1:  Loss:     1.2016 | Validation accuracy: 0.7348\n",
      "Epoch 39, CIFAR-10 Batch 2:  Loss:     1.2196 | Validation accuracy: 0.7268\n",
      "Epoch 39, CIFAR-10 Batch 3:  Loss:     1.2643 | Validation accuracy: 0.7266\n",
      "Epoch 39, CIFAR-10 Batch 4:  Loss:     1.2617 | Validation accuracy: 0.7320\n",
      "Epoch 39, CIFAR-10 Batch 5:  Loss:     1.2656 | Validation accuracy: 0.7382\n",
      "Epoch 40, CIFAR-10 Batch 1:  Loss:     1.2711 | Validation accuracy: 0.7364\n",
      "Epoch 40, CIFAR-10 Batch 2:  Loss:     1.2593 | Validation accuracy: 0.7346\n",
      "Epoch 40, CIFAR-10 Batch 3:  Loss:     1.3545 | Validation accuracy: 0.7270\n",
      "Epoch 40, CIFAR-10 Batch 4:  Loss:     1.3124 | Validation accuracy: 0.7222\n",
      "Epoch 40, CIFAR-10 Batch 5:  Loss:     1.3368 | Validation accuracy: 0.7244\n",
      "Epoch 41, CIFAR-10 Batch 1:  Loss:     1.2859 | Validation accuracy: 0.7314\n",
      "Epoch 41, CIFAR-10 Batch 2:  Loss:     1.3105 | Validation accuracy: 0.7252\n",
      "Epoch 41, CIFAR-10 Batch 3:  Loss:     1.3720 | Validation accuracy: 0.7286\n",
      "Epoch 41, CIFAR-10 Batch 4:  Loss:     1.2908 | Validation accuracy: 0.7290\n",
      "Epoch 41, CIFAR-10 Batch 5:  Loss:     1.3208 | Validation accuracy: 0.7276\n",
      "Epoch 42, CIFAR-10 Batch 1:  Loss:     1.2687 | Validation accuracy: 0.7336\n",
      "Epoch 42, CIFAR-10 Batch 2:  Loss:     1.3565 | Validation accuracy: 0.7226\n",
      "Epoch 42, CIFAR-10 Batch 3:  Loss:     1.3383 | Validation accuracy: 0.7332\n",
      "Epoch 42, CIFAR-10 Batch 4:  Loss:     1.2828 | Validation accuracy: 0.7184\n",
      "Epoch 42, CIFAR-10 Batch 5:  Loss:     1.2872 | Validation accuracy: 0.7334\n",
      "Epoch 43, CIFAR-10 Batch 1:  Loss:     1.3014 | Validation accuracy: 0.7340\n",
      "Epoch 43, CIFAR-10 Batch 2:  Loss:     1.3045 | Validation accuracy: 0.7282\n",
      "Epoch 43, CIFAR-10 Batch 3:  Loss:     1.2599 | Validation accuracy: 0.7300\n",
      "Epoch 43, CIFAR-10 Batch 4:  Loss:     1.2697 | Validation accuracy: 0.7310\n",
      "Epoch 43, CIFAR-10 Batch 5:  Loss:     1.3028 | Validation accuracy: 0.7388\n",
      "Epoch 44, CIFAR-10 Batch 1:  Loss:     1.4174 | Validation accuracy: 0.7234\n",
      "Epoch 44, CIFAR-10 Batch 2:  Loss:     1.4184 | Validation accuracy: 0.7148\n",
      "Epoch 44, CIFAR-10 Batch 3:  Loss:     1.2725 | Validation accuracy: 0.7344\n",
      "Epoch 44, CIFAR-10 Batch 4:  Loss:     1.3789 | Validation accuracy: 0.7066\n",
      "Epoch 44, CIFAR-10 Batch 5:  Loss:     1.3482 | Validation accuracy: 0.7356\n",
      "Epoch 45, CIFAR-10 Batch 1:  Loss:     1.2989 | Validation accuracy: 0.7406\n",
      "Epoch 45, CIFAR-10 Batch 2:  Loss:     1.3428 | Validation accuracy: 0.7336\n",
      "Epoch 45, CIFAR-10 Batch 3:  Loss:     1.2923 | Validation accuracy: 0.7322\n",
      "Epoch 45, CIFAR-10 Batch 4:  Loss:     1.3805 | Validation accuracy: 0.7112\n",
      "Epoch 45, CIFAR-10 Batch 5:  Loss:     1.3319 | Validation accuracy: 0.7316\n",
      "Epoch 46, CIFAR-10 Batch 1:  Loss:     1.3184 | Validation accuracy: 0.7410\n",
      "Epoch 46, CIFAR-10 Batch 2:  Loss:     1.3579 | Validation accuracy: 0.7292\n",
      "Epoch 46, CIFAR-10 Batch 3:  Loss:     1.3607 | Validation accuracy: 0.7306\n",
      "Epoch 46, CIFAR-10 Batch 4:  Loss:     1.4069 | Validation accuracy: 0.7124\n",
      "Epoch 46, CIFAR-10 Batch 5:  Loss:     1.3642 | Validation accuracy: 0.7302\n",
      "Epoch 47, CIFAR-10 Batch 1:  Loss:     1.3944 | Validation accuracy: 0.7342\n",
      "Epoch 47, CIFAR-10 Batch 2:  Loss:     1.3533 | Validation accuracy: 0.7248\n",
      "Epoch 47, CIFAR-10 Batch 3:  Loss:     1.2545 | Validation accuracy: 0.7386\n",
      "Epoch 47, CIFAR-10 Batch 4:  Loss:     1.3878 | Validation accuracy: 0.7104\n",
      "Epoch 47, CIFAR-10 Batch 5:  Loss:     1.3240 | Validation accuracy: 0.7374\n",
      "Epoch 48, CIFAR-10 Batch 1:  Loss:     1.3441 | Validation accuracy: 0.7358\n",
      "Epoch 48, CIFAR-10 Batch 2:  Loss:     1.4007 | Validation accuracy: 0.7304\n",
      "Epoch 48, CIFAR-10 Batch 3:  Loss:     1.4760 | Validation accuracy: 0.7122\n",
      "Epoch 48, CIFAR-10 Batch 4:  Loss:     1.3830 | Validation accuracy: 0.7154\n",
      "Epoch 48, CIFAR-10 Batch 5:  Loss:     1.3469 | Validation accuracy: 0.7290\n",
      "Epoch 49, CIFAR-10 Batch 1:  Loss:     1.3376 | Validation accuracy: 0.7452\n",
      "Epoch 49, CIFAR-10 Batch 2:  Loss:     1.3919 | Validation accuracy: 0.7342\n",
      "Epoch 49, CIFAR-10 Batch 3:  Loss:     1.3791 | Validation accuracy: 0.7328\n",
      "Epoch 49, CIFAR-10 Batch 4:  Loss:     1.3491 | Validation accuracy: 0.7186\n",
      "Epoch 49, CIFAR-10 Batch 5:  Loss:     1.4518 | Validation accuracy: 0.7268\n",
      "Epoch 50, CIFAR-10 Batch 1:  Loss:     1.4029 | Validation accuracy: 0.7344\n",
      "Epoch 50, CIFAR-10 Batch 2:  Loss:     1.3787 | Validation accuracy: 0.7360\n",
      "Epoch 50, CIFAR-10 Batch 3:  Loss:     1.3692 | Validation accuracy: 0.7288\n",
      "Epoch 50, CIFAR-10 Batch 4:  Loss:     1.4128 | Validation accuracy: 0.7166\n",
      "Epoch 50, CIFAR-10 Batch 5:  Loss:     1.4446 | Validation accuracy: 0.7356\n"
     ]
    }
   ],
   "source": [
    "\"\"\"\n",
    "DON'T MODIFY ANYTHING IN THIS CELL\n",
    "\"\"\"\n",
    "save_model_path = './image_classification'\n",
    "\n",
    "print('Training...')\n",
    "with tf.Session() as sess:\n",
    "    # Initializing the variables\n",
    "    sess.run(tf.global_variables_initializer())\n",
    "    \n",
    "    # Training cycle\n",
    "    for epoch in range(epochs):\n",
    "        # Loop over all batches\n",
    "        n_batches = 5\n",
    "        for batch_i in range(1, n_batches + 1):\n",
    "            for batch_features, batch_labels in helper.load_preprocess_training_batch(batch_i, batch_size):\n",
    "                train_neural_network(sess, optimizer, keep_probability, batch_features, batch_labels)\n",
    "            print('Epoch {:>2}, CIFAR-10 Batch {}:  '.format(epoch + 1, batch_i), end='')\n",
    "            print_stats(sess, batch_features, batch_labels, cost, accuracy)\n",
    "            \n",
    "    # Save Model\n",
    "    saver = tf.train.Saver()\n",
    "    save_path = saver.save(sess, save_model_path)"
   ]
  },
  {
   "cell_type": "markdown",
   "metadata": {
    "deletable": true,
    "editable": true
   },
   "source": [
    "# Checkpoint\n",
    "The model has been saved to disk.\n",
    "## Test Model\n",
    "Test your model against the test dataset.  This will be your final accuracy. You should have an accuracy greater than 50%. If you don't, keep tweaking the model architecture and parameters."
   ]
  },
  {
   "cell_type": "code",
   "execution_count": 80,
   "metadata": {
    "collapsed": false,
    "deletable": true,
    "editable": true
   },
   "outputs": [
    {
     "name": "stdout",
     "output_type": "stream",
     "text": [
      "Testing Accuracy: 0.72431640625\n",
      "\n"
     ]
    },
    {
     "data": {
      "image/png": "[encoded data removed]",
      "text/plain": [
       "<matplotlib.figure.Figure at 0x7fa655079668>"
      ]
     },
     "metadata": {
      "image/png": {
       "height": 319,
       "width": 355
      }
     },
     "output_type": "display_data"
    }
   ],
   "source": [
    "\"\"\"\n",
    "DON'T MODIFY ANYTHING IN THIS CELL\n",
    "\"\"\"\n",
    "%matplotlib inline\n",
    "%config InlineBackend.figure_format = 'retina'\n",
    "\n",
    "import tensorflow as tf\n",
    "import pickle\n",
    "import helper\n",
    "import random\n",
    "\n",
    "# Set batch size if not already set\n",
    "try:\n",
    "    if batch_size:\n",
    "        pass\n",
    "except NameError:\n",
    "    batch_size = 64\n",
    "\n",
    "save_model_path = './image_classification'\n",
    "n_samples = 4\n",
    "top_n_predictions = 3\n",
    "\n",
    "def test_model():\n",
    "    \"\"\"\n",
    "    Test the saved model against the test dataset\n",
    "    \"\"\"\n",
    "\n",
    "    test_features, test_labels = pickle.load(open('preprocess_training.p', mode='rb'))\n",
    "    loaded_graph = tf.Graph()\n",
    "\n",
    "    with tf.Session(graph=loaded_graph) as sess:\n",
    "        # Load model\n",
    "        loader = tf.train.import_meta_graph(save_model_path + '.meta')\n",
    "        loader.restore(sess, save_model_path)\n",
    "\n",
    "        # Get Tensors from loaded model\n",
    "        loaded_x = loaded_graph.get_tensor_by_name('x:0')\n",
    "        loaded_y = loaded_graph.get_tensor_by_name('y:0')\n",
    "        loaded_keep_prob = loaded_graph.get_tensor_by_name('keep_prob:0')\n",
    "        loaded_logits = loaded_graph.get_tensor_by_name('logits:0')\n",
    "        loaded_acc = loaded_graph.get_tensor_by_name('accuracy:0')\n",
    "        \n",
    "        # Get accuracy in batches for memory limitations\n",
    "        test_batch_acc_total = 0\n",
    "        test_batch_count = 0\n",
    "        \n",
    "        for train_feature_batch, train_label_batch in helper.batch_features_labels(test_features, test_labels, batch_size):\n",
    "            test_batch_acc_total += sess.run(\n",
    "                loaded_acc,\n",
    "                feed_dict={loaded_x: train_feature_batch, loaded_y: train_label_batch, loaded_keep_prob: 1.0})\n",
    "            test_batch_count += 1\n",
    "\n",
    "        print('Testing Accuracy: {}\\n'.format(test_batch_acc_total/test_batch_count))\n",
    "\n",
    "        # Print Random Samples\n",
    "        random_test_features, random_test_labels = tuple(zip(*random.sample(list(zip(test_features, test_labels)), n_samples)))\n",
    "        random_test_predictions = sess.run(\n",
    "            tf.nn.top_k(tf.nn.softmax(loaded_logits), top_n_predictions),\n",
    "            feed_dict={loaded_x: random_test_features, loaded_y: random_test_labels, loaded_keep_prob: 1.0})\n",
    "        helper.display_image_predictions(random_test_features, random_test_labels, random_test_predictions)\n",
    "\n",
    "\n",
    "test_model()"
   ]
  },
  {
   "cell_type": "markdown",
   "metadata": {
    "deletable": true,
    "editable": true
   },
   "source": [
    "## Why 50-70% Accuracy?\n",
    "You might be wondering why you can't get an accuracy any higher. First things first, 50% isn't bad for a simple CNN.  Pure guessing would get you 10% accuracy. However, you might notice people are getting scores [well above 70%](http://rodrigob.github.io/are_we_there_yet/build/classification_datasets_results.html#43494641522d3130).  That's because we haven't taught you all there is to know about neural networks. We still need to cover a few more techniques.\n",
    "## Submitting This Project\n",
    "When submitting this project, make sure to run all the cells before saving the notebook.  Save the notebook file as \"dlnd_image_classification.ipynb\" and save it as a HTML file under \"File\" -> \"Download as\".  Include the \"helper.py\" and \"problem_unittests.py\" files in your submission."
   ]
  }
 ],
 "metadata": {
  "kernelspec": {
   "display_name": "Python 3",
   "language": "python",
   "name": "python3"
  },
  "language_info": {
   "codemirror_mode": {
    "name": "ipython",
    "version": 3
   },
   "file_extension": ".py",
   "mimetype": "text/x-python",
   "name": "python",
   "nbconvert_exporter": "python",
   "pygments_lexer": "ipython3",
   "version": "3.5.3"
  }
 },
 "nbformat": 4,
 "nbformat_minor": 0
}
